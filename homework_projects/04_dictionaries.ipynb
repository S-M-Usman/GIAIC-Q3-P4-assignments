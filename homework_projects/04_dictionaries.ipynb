{
  "nbformat": 4,
  "nbformat_minor": 0,
  "metadata": {
    "colab": {
      "provenance": [],
      "authorship_tag": "ABX9TyM6jDcTyd8BHHttSuuBp8l2",
      "include_colab_link": true
    },
    "kernelspec": {
      "name": "python3",
      "display_name": "Python 3"
    },
    "language_info": {
      "name": "python"
    }
  },
  "cells": [
    {
      "cell_type": "markdown",
      "metadata": {
        "id": "view-in-github",
        "colab_type": "text"
      },
      "source": [
        "<a href=\"https://colab.research.google.com/github/S-M-Usman/GIAIC-Q3-P4-assignments/blob/main/04_dictionaries.ipynb\" target=\"_parent\"><img src=\"https://colab.research.google.com/assets/colab-badge.svg\" alt=\"Open In Colab\"/></a>"
      ]
    },
    {
      "cell_type": "markdown",
      "source": [
        "# **Project 04: Dictionaries**\n",
        "## **00. Count Num**\n",
        "### **Problem Statement**\n",
        "----\n",
        "This program counts the number of times each number appears in a list. It uses a dictionary to keep track of the information.\n",
        "\n",
        "An example run of the program looks like this (user input is in blue):\n",
        "\n",
        "Enter a number: 3\n",
        "Enter a number: 4\n",
        "Enter a number: 3\n",
        "Enter a number: 6\n",
        "Enter a number: 4\n",
        "Enter a number: 3\n",
        "Enter a number: 12\n",
        "Enter a number:\n",
        "3 appears 3 times.\n",
        "4 appears 2 times.\n",
        "6 appears 1 times.\n",
        "12 appears 1 times.\n"
      ],
      "metadata": {
        "id": "cGkGuy2umPSp"
      }
    },
    {
      "cell_type": "code",
      "source": [
        "def get_num_lst():\n",
        "  user_nums = []\n",
        "  while True:\n",
        "    user_input = input(\"Enter a number: \")\n",
        "    if user_input == \"\":\n",
        "      break\n",
        "    user_nums.append(int(user_input))\n",
        "  return user_nums\n",
        "\n",
        "def count_nums(num_lst):\n",
        "  num_dcit = {}\n",
        "  for num in num_lst:\n",
        "    if num in num_dcit:\n",
        "      num_dcit[num] += 1\n",
        "    else:\n",
        "      num_dcit[num] = 1\n",
        "  return num_dcit\n",
        "\n",
        "def print_nums(num_dict):\n",
        "  for num, count in num_dict.items():\n",
        "    print(f\"{num} appears {count} times.\")\n",
        "\n",
        "def main():\n",
        "  user_nums = get_num_lst()\n",
        "  num_dict = count_nums(user_nums)\n",
        "  print_nums(num_dict)\n",
        "\n",
        "if __name__ == \"__main__\":\n",
        "  main()\n"
      ],
      "metadata": {
        "id": "hW3YOEX1oexl",
        "colab": {
          "base_uri": "https://localhost:8080/"
        },
        "outputId": "e585c516-be65-4fed-c2a4-cbbe5432c8b8"
      },
      "execution_count": 1,
      "outputs": [
        {
          "output_type": "stream",
          "name": "stdout",
          "text": [
            "Enter a number: 1\n",
            "Enter a number: 6\n",
            "Enter a number: 8\n",
            "Enter a number: 9\n",
            "Enter a number: 8\n",
            "Enter a number: 8\n",
            "Enter a number: \n",
            "1 appears 1 times.\n",
            "6 appears 1 times.\n",
            "8 appears 3 times.\n",
            "9 appears 1 times.\n"
          ]
        }
      ]
    },
    {
      "cell_type": "markdown",
      "source": [
        "## **01 Phonebook**\n",
        "### **Problem Statement**\n",
        "---\n",
        "In this program we show an example of using dictionaries to keep track of information in a phonebook.\n"
      ],
      "metadata": {
        "id": "ZPALtyEF-ZiL"
      }
    },
    {
      "cell_type": "code",
      "source": [
        "def main():\n",
        "    phonebook = read_phone_book()\n",
        "    print_phonebook(phonebook)\n",
        "    look_up_numbers(phonebook)\n",
        "\n",
        "def read_phone_book():\n",
        "    phonebook = {}\n",
        "    while True:\n",
        "        name: str = input(\"Enter a name: \")\n",
        "        if name == \"\":\n",
        "            break\n",
        "        phone_number = input(\"Enter a phone number: \")\n",
        "        phonebook[name] = phone_number\n",
        "    return phonebook\n",
        "\n",
        "def look_up_numbers(phonebook):\n",
        "    while True:\n",
        "        name: str = input(\"Enter a name to look up: \")\n",
        "        if name == \"\":\n",
        "            break\n",
        "        elif name not in phonebook:\n",
        "            print(f\"Sorry, {name} is not in the phonebook.\")\n",
        "        else:\n",
        "            print(f\"{name}'s phone number is {phonebook[name]}.\")\n",
        "\n",
        "def print_phonebook(phonebook):\n",
        "    \"\"\"\n",
        "    Prints out all the names/numbers in the phonebook.\n",
        "    \"\"\"\n",
        "    if not phonebook:\n",
        "        print(\"The phonebook is empty.\")\n",
        "    else:\n",
        "        print(\"\\nPhonebook Entries:\")\n",
        "        for name, number in phonebook.items():\n",
        "            print(f\"{name} -> {number}\")\n",
        "\n",
        "if __name__ == \"__main__\":\n",
        "    main()\n",
        "\n"
      ],
      "metadata": {
        "colab": {
          "base_uri": "https://localhost:8080/"
        },
        "id": "N2CeTSIrAWKl",
        "outputId": "9d495d0d-504e-4cab-d177-58467a667d13"
      },
      "execution_count": 3,
      "outputs": [
        {
          "name": "stdout",
          "output_type": "stream",
          "text": [
            "Enter a name: ahmed\n",
            "Enter a phone number: 03332144592\n",
            "Enter a name: usman\n",
            "Enter a phone number: 03181420900\n",
            "Enter a name: \n",
            "\n",
            "Phonebook Entries:\n",
            "ahmed -> 03332144592\n",
            "usman -> 03181420900\n",
            "Enter a name to look up: usman\n",
            "usman's phone number is 03181420900.\n",
            "Enter a name to look up: \n"
          ]
        }
      ]
    },
    {
      "cell_type": "markdown",
      "source": [
        "## **02 Pop Up Shop**\n",
        "### **Problem Statement**\n",
        "---\n",
        "There's a small fruit shop nearby your house that you like to buy from. Since you buy several fruit at a time, you want to keep track of how much the fruit will cost before you go. Luckily you wrote down what fruits were available and how much one of each fruit costs.\n",
        "\n",
        "Write a program that loops through a dictionary of fruits, prompting the user to see how many of each fruit they want to buy, and then prints out the total combined cost of all of the fruits.\n",
        "\n",
        "Here is an example run of the program (user input is in bold italics):\n",
        "\n",
        "How many (apple) do you want?: 2\n",
        "\n",
        "How many (durian) do you want?: 0\n",
        "\n",
        "How many (jackfruit) do you want?: 1\n",
        "\n",
        "How many (kiwi) do you want?: 0\n",
        "\n",
        "How many (rambutan) do you want?: 1\n",
        "\n",
        "How many (mango) do you want?: 3\n",
        "\n",
        "Your total is $99.5"
      ],
      "metadata": {
        "id": "fxrikPWFILCY"
      }
    },
    {
      "cell_type": "code",
      "source": [
        "def main():\n",
        "    fruits: dict = {\n",
        "        'apple': 1.5,\n",
        "        'durian': 50,\n",
        "        'jackfruit': 80,\n",
        "        'kiwi': 1,\n",
        "        'rambutan': 1.5,\n",
        "        'mango': 5\n",
        "    }\n",
        "    total_cost: float = 0\n",
        "\n",
        "    for fruit, price in fruits.items():\n",
        "        amount_bought = int(input(f\"How many ({fruit}) do you want to buy?: \"))\n",
        "        total_cost += price * amount_bought\n",
        "\n",
        "    print(f\"Your total is ${total_cost:.2f}\")\n",
        "\n",
        "if __name__ == \"__main__\":\n",
        "    main()\n"
      ],
      "metadata": {
        "colab": {
          "base_uri": "https://localhost:8080/"
        },
        "id": "p-TYBAFhMIzY",
        "outputId": "811897cd-e5d0-4c99-d404-20f3852cbbf6"
      },
      "execution_count": 11,
      "outputs": [
        {
          "output_type": "stream",
          "name": "stdout",
          "text": [
            "How many (apple) do you want to buy?: 3\n",
            "How many (durian) do you want to buy?: 2\n",
            "How many (jackfruit) do you want to buy?: 0\n",
            "How many (kiwi) do you want to buy?: 1\n",
            "How many (rambutan) do you want to buy?: 1\n",
            "How many (mango) do you want to buy?: 5\n",
            "Your total is $132.00\n"
          ]
        }
      ]
    },
    {
      "cell_type": "markdown",
      "source": [
        "## **03 Powerful Passwords**\n",
        "### **Problem Statement**\n",
        "---\n",
        "You want to be safe online and use different passwords for different websites. However, you are forgetful at times and want to make a program that can match which password belongs to which website without storing the actual password!\n",
        "\n",
        "This can be done via something called hashing. Hashing is when we take something and convert it into a different, unique identifier. This is done using a hash function. Luckily, there are several resources that can help us with this.\n",
        "\n",
        "For example, using a hash function called SHA256(...) something as simple as\n",
        "\n",
        "hello\n",
        "\n",
        "can be hashed into a much more complex\n",
        "\n",
        "2cf24dba5fb0a30e26e83b2ac5b9e29e1b161e5c1fa7425e73043362938b9824\n",
        "\n",
        "Fill out the login(...) function for a website that hashes their passwords. Login should return True if an email's stored password hash in stored_logins is the same as the hash of password_to_check.\n",
        "\n",
        "(Hint. You will need to use the provided hash_password(...) function. You don't necessarily need to know how it works, just know that hash_password(...) returns the hash for the password!)\n"
      ],
      "metadata": {
        "id": "0pIhlFcaJBIS"
      }
    },
    {
      "cell_type": "code",
      "source": [
        "from hashlib import sha256\n",
        "\n",
        "def login(email, stored_logins, password_to_check):\n",
        "    \"\"\"\n",
        "    Returns True if the hash of the password we are checking matches the one in stored_logins\n",
        "    for a specific email. Otherwise, returns False.\n",
        "\n",
        "    email: the email we are checking the password for\n",
        "    stored_logins: a dictionary pointing from an email to its hashed password\n",
        "    password_to_check: a password we want to test alongside the email to login with\n",
        "    \"\"\"\n",
        "\n",
        "    if stored_logins[email] == hash_password(password_to_check):\n",
        "        return True\n",
        "\n",
        "    return False\n",
        "\n",
        "# There is no need to edit code beyond this point\n",
        "\n",
        "def hash_password(password):\n",
        "    \"\"\"\n",
        "    Takes in a password and returns the SHA256 hashed value for that specific password.\n",
        "\n",
        "    Inputs:\n",
        "        password: the password we want\n",
        "\n",
        "    Outputs:\n",
        "        the hashed form of the input password\n",
        "    \"\"\"\n",
        "\n",
        "    return sha256(password.encode()).hexdigest()\n",
        "\n",
        "def main():\n",
        "    # stored_logins is a dictionary with emails as keys and hashed passwords as values\n",
        "    stored_logins = {\n",
        "        \"example@gmail.com\": \"5e884898da28047151d0e56f8dc6292773603d0d6aabbdd62a11ef721d1542d8\",\n",
        "        \"code_in_placer@cip.org\": \"973607a4ae7b4cf7d96a100b0fb07e8519cc4f70441d41214a9f811577bb06cc\",\n",
        "        \"student@stanford.edu\": \"882c6df720fd99f5eebb1581a1cf975625cea8a160283011c0b9512bb56c95fb\"\n",
        "    }\n",
        "\n",
        "    print(login(\"example@gmail.com\", stored_logins, \"word\"))\n",
        "    print(login(\"example@gmail.com\", stored_logins, \"password\"))\n",
        "\n",
        "    print(login(\"code_in_placer@cip.org\", stored_logins, \"Karel\"))\n",
        "    print(login(\"code_in_placer@cip.org\", stored_logins, \"karel\"))\n",
        "\n",
        "    print(login(\"student@stanford.edu\", stored_logins, \"password\"))\n",
        "    print(login(\"student@stanford.edu\", stored_logins, \"123!456?789\"))\n",
        "\n",
        "\n",
        "if __name__ == '__main__':\n",
        "    main()"
      ],
      "metadata": {
        "colab": {
          "base_uri": "https://localhost:8080/"
        },
        "id": "XU77IqOiPZ1j",
        "outputId": "24197921-472a-4b35-8951-cd2990c8074d"
      },
      "execution_count": 12,
      "outputs": [
        {
          "output_type": "stream",
          "name": "stdout",
          "text": [
            "False\n",
            "True\n",
            "False\n",
            "True\n",
            "False\n",
            "True\n"
          ]
        }
      ]
    }
  ]
}