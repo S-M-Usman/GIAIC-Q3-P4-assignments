{
  "nbformat": 4,
  "nbformat_minor": 0,
  "metadata": {
    "colab": {
      "provenance": [],
      "authorship_tag": "ABX9TyPG888ken+JmlR9KZ23Rbuh",
      "include_colab_link": true
    },
    "kernelspec": {
      "name": "python3",
      "display_name": "Python 3"
    },
    "language_info": {
      "name": "python"
    }
  },
  "cells": [
    {
      "cell_type": "markdown",
      "metadata": {
        "id": "view-in-github",
        "colab_type": "text"
      },
      "source": [
        "<a href=\"https://colab.research.google.com/github/S-M-Usman/GIAIC-Q3-P4-assignments/blob/main/05_loops_control_flow.ipynb\" target=\"_parent\"><img src=\"https://colab.research.google.com/assets/colab-badge.svg\" alt=\"Open In Colab\"/></a>"
      ]
    },
    {
      "cell_type": "markdown",
      "source": [
        "# **Project 05 : Loops Control Flow**\n",
        "## **00. Guess My Number**\n",
        "### **Problem Statement**\n",
        "---\n",
        "Guess My Number\n",
        "\n",
        "I am thinking of a number between 0 and 99...\n",
        "Enter a guess: 50\n",
        "Your guess is too high\n",
        "\n",
        "Enter a new number: 25\n",
        "Your guess is too low\n",
        "\n",
        "Enter a new number: 40\n",
        "Your guess is too low\n",
        "\n",
        "Enter a new number: 45\n",
        "Your guess is too low\n",
        "\n",
        "Enter a new number: 48\n",
        "Congrats! The number was: 48"
      ],
      "metadata": {
        "id": "0c-0ZMVpSmsg"
      }
    },
    {
      "cell_type": "code",
      "execution_count": 3,
      "metadata": {
        "colab": {
          "base_uri": "https://localhost:8080/"
        },
        "id": "XlOcRezGQIhG",
        "outputId": "b8025ba3-5c41-4168-f8b5-c4ccac23b6af"
      },
      "outputs": [
        {
          "output_type": "stream",
          "name": "stdout",
          "text": [
            "Guess My Number\n",
            "I am thinking of a number between 0 and 99...\n",
            "Enter a guess: 10\n",
            "Your guess is too high\n",
            "Enter a new number: 8\n",
            "Your guess is too low\n",
            "Enter a new number: 9\n",
            "Congrats! The number was: 9\n"
          ]
        }
      ],
      "source": [
        "import random\n",
        "\n",
        "# Generate a random number between 0 and 99\n",
        "number: int = random.randint(0, 99)\n",
        "\n",
        "def main():\n",
        "    print(\"Guess My Number\")\n",
        "    print(\"I am thinking of a number between 0 and 99...\")\n",
        "\n",
        "    user_guess: int = int(input(\"Enter a guess: \"))\n",
        "    guess_check(number, user_guess)\n",
        "\n",
        "def guess_check(num: int, guess: int):\n",
        "    while guess != num:\n",
        "        if guess > num:\n",
        "            print(\"Your guess is too high\")\n",
        "        else:\n",
        "            print(\"Your guess is too low\")\n",
        "\n",
        "        # Ask for a new guess\n",
        "        guess = int(input(\"Enter a new number: \"))\n",
        "\n",
        "    print(\"Congrats! The number was:\", num)\n",
        "\n",
        "if __name__ == \"__main__\":\n",
        "    main()\n"
      ]
    },
    {
      "cell_type": "markdown",
      "source": [
        "## **01. Fibonacci**\n",
        "### **Problem Statement**\n",
        "---\n",
        "Write a program to print terms in the Fibonacci sequence up to a maximum value.\n",
        "\n",
        "In the 13th century, the Italian mathematician Leonardo Fibonacci, as a way to explain the geometric growth of a population of rabbits, devised a mathematical sequence that now bears his name. The first two terms in this sequence, Fib(0) and Fib(1), are 0 and 1, and every subsequent term is the sum of the preceding two. Thus, the first several terms in the Fibonacci sequence look like this:\n",
        "\n",
        "Fib(0) = 0\n",
        "Fib(1) = 1\n",
        "Fib(2) = 1 = 0 + 1\n",
        "Fib(3) = 2 = 1 + 1\n",
        "Fib(4) = 3 = 1 + 2\n",
        "Fib(5) = 5 = 2 + 3\n",
        "\n",
        "Write a program that displays the terms in the Fibonacci sequence, starting with Fib(0) and continuing as long as the terms are less than 10,000 (you should store this value as a constant!). Thus, your program should produce the following sample run:\n",
        "\n",
        "0\n",
        "1\n",
        "1\n",
        "2\n",
        "3\n",
        "5\n",
        "8\n",
        "13\n",
        "21\n",
        "34\n",
        "55\n",
        "89\n",
        "144\n",
        "233\n",
        "377\n",
        "610\n",
        "987\n",
        "1597\n",
        "2584\n",
        "4181\n",
        "6765\n"
      ],
      "metadata": {
        "id": "6UJSDb-zZTTZ"
      }
    },
    {
      "cell_type": "code",
      "source": [
        "MAX_VALUE: int = 10000\n",
        "def main():\n",
        "  firt_value: int = 0\n",
        "  second_value: int = 1\n",
        "  while firt_value < MAX_VALUE:\n",
        "    print(firt_value)\n",
        "    firt_value, second_value = second_value, firt_value + second_value\n",
        "\n",
        "if __name__ == \"__main__\":\n",
        "  main()"
      ],
      "metadata": {
        "colab": {
          "base_uri": "https://localhost:8080/"
        },
        "id": "7Eboemr3bb9l",
        "outputId": "d28f5a32-d89f-4829-cb53-89a470a021f9"
      },
      "execution_count": 4,
      "outputs": [
        {
          "output_type": "stream",
          "name": "stdout",
          "text": [
            "0\n",
            "1\n",
            "1\n",
            "2\n",
            "3\n",
            "5\n",
            "8\n",
            "13\n",
            "21\n",
            "34\n",
            "55\n",
            "89\n",
            "144\n",
            "233\n",
            "377\n",
            "610\n",
            "987\n",
            "1597\n",
            "2584\n",
            "4181\n",
            "6765\n"
          ]
        }
      ]
    },
    {
      "cell_type": "markdown",
      "source": [
        "## **02 Print Events.**\n",
        "## Problem Statement\n",
        "\n",
        "Write a program that prints the first 20 even numbers. There are several correct approaches, but they all use a loop of some sort. Do no write twenty print statements\n",
        "\n",
        "The first even number is 0:\n",
        "\n",
        "0\n",
        "2\n",
        "4\n",
        "6\n",
        "8\n",
        "10\n",
        "12\n",
        "14\n",
        "16\n",
        "18\n",
        "20\n",
        "22\n",
        "24\n",
        "26\n",
        "28\n",
        "30\n",
        "32\n",
        "34\n",
        "36\n",
        "38\n"
      ],
      "metadata": {
        "id": "Xyfw9MKScazf"
      }
    },
    {
      "cell_type": "code",
      "source": [
        "def main() :\n",
        "\n",
        "  for i in range (40) :\n",
        "    if i % 2 == 0 :\n",
        "      print(i)\n",
        "\n",
        "if __name__ == \"__main__\":\n",
        "  main()\n"
      ],
      "metadata": {
        "colab": {
          "base_uri": "https://localhost:8080/"
        },
        "id": "cB8a7yNicqyc",
        "outputId": "596e7ccf-a836-4e2e-e689-9d15c0ec6cb1"
      },
      "execution_count": 5,
      "outputs": [
        {
          "output_type": "stream",
          "name": "stdout",
          "text": [
            "0\n",
            "2\n",
            "4\n",
            "6\n",
            "8\n",
            "10\n",
            "12\n",
            "14\n",
            "16\n",
            "18\n",
            "20\n",
            "22\n",
            "24\n",
            "26\n",
            "28\n",
            "30\n",
            "32\n",
            "34\n",
            "36\n",
            "38\n"
          ]
        }
      ]
    },
    {
      "cell_type": "markdown",
      "source": [
        "## **03. Wholesome Machine**\n",
        "### **Problem Statement**\n",
        "---\n",
        "Write a program which prompts the user to type an affirmation of your choice (we'll use \"I am capable of doing anything I put my mind to.\") until they type it correctly. Sometimes, especially in the midst of such uncertain times, we just need to be reminded that we are resilient, capable, and strong; this little Python program may be able to help!\n",
        "\n",
        "Here's a sample run of the program (user input is in blue):\n",
        "\n",
        "Please type the following affirmation: I am capable of doing anything I put my mind to.\n",
        "Hmmm\n",
        "That was not the affirmation.\n",
        "Please type the following affirmation: I am capable of doing anything I put my mind to.\n",
        "I am capable of doing anything I put my mind to.\n",
        "That's right! :)\n",
        "\n",
        "Note that you can call input() with no prompt and it will still wait for a user to type something!"
      ],
      "metadata": {
        "id": "y_djUBBReeOg"
      }
    },
    {
      "cell_type": "code",
      "source": [
        "AFFIRMATION_MESSAGE : str = \"I am capable of doing anything I put my mind to.\"\n",
        "\n",
        "def main():\n",
        "  print(\"Please type the following affirmation:\", AFFIRMATION_MESSAGE)\n",
        "  user_input: str = input()\n",
        "  while user_input != AFFIRMATION_MESSAGE:\n",
        "    print(\"Hmmm\")\n",
        "    print(\"Please type the following affirmation:\", AFFIRMATION_MESSAGE)\n",
        "    user_input = input()\n",
        "print(\"That's right! \")\n",
        "if __name__ == \"__main__\":\n",
        "  main()\n",
        "\n"
      ],
      "metadata": {
        "colab": {
          "base_uri": "https://localhost:8080/"
        },
        "id": "7txKKZgLed1X",
        "outputId": "65625ad7-d105-4d5f-ad5d-d00955b8fb7a"
      },
      "execution_count": 6,
      "outputs": [
        {
          "name": "stdout",
          "output_type": "stream",
          "text": [
            "That's right! \n",
            "Please type the following affirmation: I am capable of doing anything I put my mind to.\n",
            "hi\n",
            "Hmmm\n",
            "Please type the following affirmation: I am capable of doing anything I put my mind to.\n",
            " I am capable of doing anything I put my mind to.\n",
            "Hmmm\n",
            "Please type the following affirmation: I am capable of doing anything I put my mind to.\n",
            "I am capable of doing anything I put my mind to\n",
            "Hmmm\n",
            "Please type the following affirmation: I am capable of doing anything I put my mind to.\n",
            "I am capable of doing anything I put my mind to.\n"
          ]
        }
      ]
    },
    {
      "cell_type": "markdown",
      "source": [
        "## **04. Liftoff**\n",
        "### **Problem Statement**\n",
        "---\n",
        "\n",
        "Write a program that prints out the calls for a spaceship that is about to launch. Countdown from 10 to 1 and then output Liftoff!\n",
        "\n",
        "Here's a sample run of the program:\n",
        "\n",
        "10\n",
        "9\n",
        "8\n",
        "7\n",
        "6\n",
        "5\n",
        "4\n",
        "3\n",
        "2\n",
        "1\n",
        "Liftoff!\n",
        "\n",
        "There are many ways to solve this problem. One approach is to use a for loop, and to use the for loop variable i. Recall that i will keep track of how many times the for loop has completed executing its body. As an example this code:\n",
        "\n",
        "for i in range(10):\n",
        "    print(i)\n",
        "\n",
        "Will print out the values 0, 1, 2, 3, 4, 5, 6, 7, 8, 9. The values printed in liftoff are 10 minus the number of times the for loop has completed.\n"
      ],
      "metadata": {
        "id": "JaCPsD7GjeOD"
      }
    },
    {
      "cell_type": "code",
      "source": [
        "def main():\n",
        "  for i in range(10,0,-1):\n",
        "    print(i)\n",
        "    if i == 1:\n",
        "      print(\"Liftoff!\")\n",
        "\n",
        "if __name__ == \"__main__\":\n",
        "  main()"
      ],
      "metadata": {
        "colab": {
          "base_uri": "https://localhost:8080/"
        },
        "id": "crJr0hh5kR_B",
        "outputId": "cb6e2965-ab5d-4ba8-eafd-bb80dd6e3ebd"
      },
      "execution_count": 7,
      "outputs": [
        {
          "output_type": "stream",
          "name": "stdout",
          "text": [
            "10\n",
            "9\n",
            "8\n",
            "7\n",
            "6\n",
            "5\n",
            "4\n",
            "3\n",
            "2\n",
            "1\n",
            "Liftoff!\n"
          ]
        }
      ]
    },
    {
      "cell_type": "markdown",
      "source": [
        "## **05. Double It**\n",
        "### **Problem Statement**\n",
        "---\n",
        "\n",
        "Write a program that asks a user to enter a number. Your program will then double that number and print out the result. It will repeat that process until the value is 100 or greater.\n",
        "\n",
        "For example if the user enters the number 2 you would then print:\n",
        "\n",
        "4\n",
        "8\n",
        "16\n",
        "32\n",
        "64\n",
        "128\n",
        "\n",
        "Note that:\n",
        "\n",
        "2 doubled is 4\n",
        "\n",
        "4 doubled is 8\n",
        "\n",
        "8 doubled is 16\n",
        "\n",
        "and so on.\n",
        "\n",
        "We stop at 128 because that value is greater than 100.\n",
        "\n",
        "Maintain the current number in a variable named curr_value. When you double the number, you should be updating curr_value. Recall that you can double the value of curr_value using a line like:\n",
        "\n",
        "curr_value = curr_value * 2\n",
        "\n",
        "This program should have a while loop and the while loop condition should test if curr_value is less than 100. Thus, your program will have the line:\n",
        "\n",
        "while curr_value < 100:\n"
      ],
      "metadata": {
        "id": "CghkLttPkhiR"
      }
    },
    {
      "cell_type": "code",
      "source": [
        "def main():\n",
        "  user_number : int  = int (input(\"Enter a number: \"))\n",
        "  double_it(user_number)\n",
        "\n",
        "def double_it(user_number: int):\n",
        "  curr_value = user_number\n",
        "  while curr_value < 100:\n",
        "    curr_value = curr_value * 2\n",
        "    print(curr_value)\n",
        "\n",
        "if __name__ == \"__main__\":\n",
        "  main()"
      ],
      "metadata": {
        "id": "R6r1Tpo5lgMF"
      },
      "execution_count": null,
      "outputs": []
    }
  ]
}