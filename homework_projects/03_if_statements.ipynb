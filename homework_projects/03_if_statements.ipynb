{
  "nbformat": 4,
  "nbformat_minor": 0,
  "metadata": {
    "colab": {
      "provenance": [],
      "authorship_tag": "ABX9TyNC7XOINrmInht1rtj3nw9s",
      "include_colab_link": true
    },
    "kernelspec": {
      "name": "python3",
      "display_name": "Python 3"
    },
    "language_info": {
      "name": "python"
    }
  },
  "cells": [
    {
      "cell_type": "markdown",
      "metadata": {
        "id": "view-in-github",
        "colab_type": "text"
      },
      "source": [
        "<a href=\"https://colab.research.google.com/github/S-M-Usman/GIAIC-Q3-P4-assignments/blob/main/03_if_statements.ipynb\" target=\"_parent\"><img src=\"https://colab.research.google.com/assets/colab-badge.svg\" alt=\"Open In Colab\"/></a>"
      ]
    },
    {
      "cell_type": "markdown",
      "source": [
        "# **Project 3 If Staement**\n",
        "## **01. Print Events**\n",
        "### **Problem Statement**\n",
        "---\n",
        "Write a program that prints the first 20 even numbers. There are several correct approaches, but they all use a loop of some sort. Do no write twenty print statements\n",
        "\n",
        "The first even number is 0:\n",
        "\n",
        "0\n",
        "2\n",
        "4\n",
        "6\n",
        "8\n",
        "10\n",
        "12\n",
        "14\n",
        "16\n",
        "18\n",
        "20\n",
        "22\n",
        "24\n",
        "26\n",
        "28\n",
        "30\n",
        "32\n",
        "34\n",
        "36\n",
        "38\n",
        "\n"
      ],
      "metadata": {
        "id": "jBOgwVvTFbX-"
      }
    },
    {
      "cell_type": "code",
      "source": [
        "even_numbers =[]\n",
        "def main():\n",
        "  print(\"The first 20 even numbers are:\")\n",
        "  for i in range(40):\n",
        "    if i % 2 == 0:\n",
        "      even_numbers.append(i)\n",
        "  print(even_numbers)\n",
        "\n",
        "if (__name__ == \"__main__\"):\n",
        "  main()"
      ],
      "metadata": {
        "colab": {
          "base_uri": "https://localhost:8080/"
        },
        "id": "T6h6rpJiGk2m",
        "outputId": "b4dcbad3-fff4-4655-b1ce-dd3531e6fe7c"
      },
      "execution_count": 1,
      "outputs": [
        {
          "output_type": "stream",
          "name": "stdout",
          "text": [
            "The first 20 even numbers are:\n",
            "[0, 2, 4, 6, 8, 10, 12, 14, 16, 18, 20, 22, 24, 26, 28, 30, 32, 34, 36, 38]\n"
          ]
        }
      ]
    },
    {
      "cell_type": "markdown",
      "source": [
        "## **02. International Voting Age**\n",
        "### **Problem Statement**\n",
        "---\n",
        "\n",
        "Write a program which asks a user for their age and lets them know if they can or can't vote in the following three fictional countries.\n",
        "\n",
        "Around the world, different countries have different voting ages. In the fictional countries of Peturksbouipo, Stanlau, and Mayengua, the voting ages are very different:\n",
        "\n",
        "the voting age in Peturksbouipo is 16 (in real life, this is the voting age in, for example, Scotland, Ethiopia, and Austria)\n",
        "\n",
        "the voting age in Stanlau is 25 (in real life this is the voting age in the United Arab Emirates)\n",
        "\n",
        "the voting age in Mayengua is 48 (in real life, as far as we can tell, this isn't the voting age anywhere)\n",
        "\n",
        "Your code should prompt the for their age and print whether or not they can vote in Peturksbouipo, Stanlau, or Mayengua.\n",
        "\n",
        "Here's a sample run of the program (user input is in blue):\n",
        "\n",
        "How old are you? 20\n",
        "You can vote in Peturksbouipo where the voting age is 16.\n",
        "You cannot vote in Stanlau where the voting age is 25.\n",
        "You cannot vote in Mayengua where the voting age is 48."
      ],
      "metadata": {
        "id": "q5OZq1HaHoY7"
      }
    },
    {
      "cell_type": "code",
      "source": [
        "Peturksbouipo :int = 16\n",
        "Stanlau:int = 25\n",
        "Mayengua :int = 48\n",
        "\n",
        "def main():\n",
        "  age = int(input(\"How old are you? \"))\n",
        "  vote_age(age)\n",
        "def vote_age(age):\n",
        "  if age >= Peturksbouipo:\n",
        "    print(f\"\"\"You can vote in Peturksbouipo where the voting age is {Peturksbouipo}.\n",
        "    You cannot vote in Stanlau where the voting age is {Stanlau}.\n",
        "    You cannot vote in Mayengua where the voting age is {Mayengua}.\n",
        "    \"\"\")\n",
        "  elif age >= Stanlau:\n",
        "    print(f\"\"\"You can vote in Stanlau where the voting age is {Stanlau}.\n",
        "    You cannot vote in Peturksbouipo where the voting age is {Peturksbouipo}.\n",
        "    You cannot vote in Mayengua where the voting age is {Mayengua}.\n",
        "    \"\"\")\n",
        "  elif age >= Mayengua:\n",
        "    print(f\"\"\"You can vote in Mayengua where the voting age is {Mayengua}.\n",
        "    You cannot vote in Peturksbouipo where the voting age is {Peturksbouipo}.\n",
        "    You cannot vote in Stanlau where the voting age is {Stanlau}.\n",
        "    \"\"\")\n",
        "  else:\n",
        "    print(f\"\"\"You can neither vote in Peturksbouipo where the voting age is {Peturksbouipo}.\n",
        "    nor in Stanlau where the voting age is {Stanlau} and you are also not eligible to vote in Mayengua where the voting age is {Mayengua}\"\"\" )\n",
        "\n",
        "if (__name__ == \"__main__\"):\n",
        "  main()\n"
      ],
      "metadata": {
        "colab": {
          "base_uri": "https://localhost:8080/"
        },
        "id": "oHZLyK_RICqK",
        "outputId": "1d7af5fa-b1c0-4577-f33f-3a2ccc15e4cd"
      },
      "execution_count": 2,
      "outputs": [
        {
          "output_type": "stream",
          "name": "stdout",
          "text": [
            "How old are you? 20\n",
            "You can vote in Peturksbouipo where the voting age is 16.\n",
            "    You cannot vote in Stanlau where the voting age is 25.\n",
            "    You cannot vote in Mayengua where the voting age is 48.\n",
            "    \n"
          ]
        }
      ]
    },
    {
      "cell_type": "markdown",
      "source": [
        "## **03. Leap Year**\n",
        "### **Problem Statement**\n",
        "---\n",
        "Write a program that reads a year from the user and tells whether a given year is a leap year or not.\n",
        "\n",
        "A leap year (also known as an intercalary year or bissextile year) is a calendar year that contains an additional day (or, in the case of a lunisolar calendar, a month) added to keep the calendar year synchronized with the astronomical year or seasonal year. In the Gregorian calendar, each leap year has 366 days instead of 365, by extending February to 29 days rather than the common 28.\n",
        "\n",
        "In the Gregorian calendar, three criteria must be checked to identify leap years:\n",
        "1. The given year must be evenly divisible by 4;\n",
        "2. If the year can also be evenly divided by 100, it is NOT a leap year; unless:\n",
        "3. The year is also evenly divisible by 400. Then it is a leap year.\n",
        "\n",
        "Your code should use the above criteria to check for a leap year and then print either \"That's a leap year!\" or \"That's not a leap year.\"\n"
      ],
      "metadata": {
        "id": "Pj0zx6Y6JxVU"
      }
    },
    {
      "cell_type": "code",
      "source": [
        "def main():\n",
        "    year: int = int(input(\"Enter a Year: \"))\n",
        "    leap_year_checker(year)\n",
        "\n",
        "def leap_year_checker(year: int):\n",
        "    if year % 4 == 0:\n",
        "        if year % 100 == 0:\n",
        "            if year % 400 == 0:\n",
        "                print(f\"{year}: That is a leap year\")\n",
        "            else:\n",
        "                print(f\"{year}: That is not a leap year\")\n",
        "        else:\n",
        "            print(f\"{year}: That is a leap year\")\n",
        "    else:\n",
        "        print(f\"{year}: That is not a leap year\")\n",
        "\n",
        "if __name__ == \"__main__\":\n",
        "    main()\n"
      ],
      "metadata": {
        "colab": {
          "base_uri": "https://localhost:8080/"
        },
        "id": "KaUuLf4DLZN_",
        "outputId": "576e5039-4e61-45a5-825b-26571f7b575a"
      },
      "execution_count": 5,
      "outputs": [
        {
          "output_type": "stream",
          "name": "stdout",
          "text": [
            "Enter a Year: 2004\n",
            "2004: That is a leap year\n"
          ]
        }
      ]
    },
    {
      "cell_type": "markdown",
      "source": [
        "## **04. Tall Enough To Ride**\n",
        "### **Problem Statement**\n",
        "---\n",
        "\n",
        "Write a program which asks the user how tall they are and prints whether or not they're taller than a pre-specified minimum height.\n",
        "\n",
        "In amusement parks (ah, the good old pre-pandemic days...), rollercoasters frequently have minimum height requirements for safety reasons. Assume for now that the minimum height is 50 of whatever height unit you'd like\n",
        "\n",
        "Here's two sample runs (user input is in bold italics):\n",
        "\n",
        "How tall are you? 100\n",
        "\n",
        "You're tall enough to ride!\n",
        "\n",
        "How tall are you? 10\n",
        "\n",
        "You're not tall enough to ride, but maybe next year!\n",
        "\n",
        "(For an extra challenge, write code which will repeatedly ask a user how tall they are and tell them whether or not they're tall enough to ride, until the user doesn't enter a height at all, in which case the program stops. Curious about how to do this? See the function tall_enough_extension() in the solution code!)\n"
      ],
      "metadata": {
        "id": "ER5ziGsqNHTL"
      }
    },
    {
      "cell_type": "code",
      "source": [
        "minimum_height: int = 50\n",
        "def main():\n",
        "    height: int = int(input(\"How tall are you: \"))\n",
        "    tall_enough(height)\n",
        "\n",
        "def tall_enough(height: int):\n",
        "     while True:\n",
        "        user_input = input('How tall are you? ')\n",
        "\n",
        "        if user_input == '':\n",
        "            break\n",
        "\n",
        "        try:\n",
        "            user_height = float(user_input)\n",
        "        except ValueError:\n",
        "            print(\"Invalid input. Please enter a valid number!\")\n",
        "            continue\n",
        "\n",
        "        if user_height >= minimum_height:\n",
        "            print(\"You're tall enough to ride!\")\n",
        "        else:\n",
        "            print(\"You're not tall enough to ride!\")\n",
        "if (__name__ == \"__main__\"):\n",
        "  main()"
      ],
      "metadata": {
        "colab": {
          "base_uri": "https://localhost:8080/"
        },
        "id": "u91r1HN_OJku",
        "outputId": "55857e3a-1c97-47d7-d13a-83cf427fa9cc"
      },
      "execution_count": 6,
      "outputs": [
        {
          "output_type": "stream",
          "name": "stdout",
          "text": [
            "How tall are you: 20\n",
            "You're not tall enough to ride, but maybe next year!\n"
          ]
        }
      ]
    },
    {
      "cell_type": "markdown",
      "source": [
        "## **05. Random Numbers**\n",
        "### **Problem Statement**\n",
        "---\n",
        "\n",
        "Print 10 random numbers in the range 1 to 100.\n",
        "\n",
        "Here is an example run:\n",
        "\n",
        "45\n",
        "79\n",
        "61\n",
        "47\n",
        "52\n",
        "10\n",
        "16\n",
        "83\n",
        "19\n",
        "12\n",
        "\n",
        "Each time you run your program you should get different numbers\n",
        "\n",
        "81\n",
        "76\n",
        "70\n",
        "1\n",
        "27\n",
        "63\n",
        "96\n",
        "100\n",
        "32\n",
        "92\n",
        "\n",
        "Recall that the python random library has a function randint which returns an integer in the range set by the parameters (inclusive). For example this call would produce a random integer between 1 and 6, which could include 1 and could include 6:\n",
        "\n",
        "value = random.randint(1, 6)"
      ],
      "metadata": {
        "id": "2tD74CyCR8fr"
      }
    },
    {
      "cell_type": "code",
      "source": [
        "import random\n",
        "def main():\n",
        "  for i in range(10):\n",
        "    print(random.randint(1, 100), end=' ')\n",
        "if (__name__ == \"__main__\"):\n",
        "  main()"
      ],
      "metadata": {
        "colab": {
          "base_uri": "https://localhost:8080/"
        },
        "id": "-OMbCD3WTQ0-",
        "outputId": "16c6a6fa-711c-4137-ae93-f2f842a18613"
      },
      "execution_count": 7,
      "outputs": [
        {
          "output_type": "stream",
          "name": "stdout",
          "text": [
            "56 33 4 47 63 34 28 54 40 59 "
          ]
        }
      ]
    }
  ]
}