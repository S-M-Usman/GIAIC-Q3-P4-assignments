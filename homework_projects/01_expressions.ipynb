{
  "nbformat": 4,
  "nbformat_minor": 0,
  "metadata": {
    "colab": {
      "provenance": [],
      "authorship_tag": "ABX9TyM1oft2gN+3r5y0+/7KGIM0",
      "include_colab_link": true
    },
    "kernelspec": {
      "name": "python3",
      "display_name": "Python 3"
    },
    "language_info": {
      "name": "python"
    }
  },
  "cells": [
    {
      "cell_type": "markdown",
      "metadata": {
        "id": "view-in-github",
        "colab_type": "text"
      },
      "source": [
        "<a href=\"https://colab.research.google.com/github/S-M-Usman/GIAIC-Q3-P4-assignments/blob/main/01_expressions.ipynb\" target=\"_parent\"><img src=\"https://colab.research.google.com/assets/colab-badge.svg\" alt=\"Open In Colab\"/></a>"
      ]
    },
    {
      "cell_type": "markdown",
      "source": [
        "# **Project 01: Expressions**\n",
        "\n",
        "## **01. Dice Simulator**\n",
        "### **Problem Statement**\n",
        "---\n",
        "Simulate rolling two dice, three times.  Prints the results of each die roll.  This program is used to show how variable scope works.\n"
      ],
      "metadata": {
        "id": "9u8Y9BbntWfn"
      }
    },
    {
      "cell_type": "code",
      "source": [
        "import random\n",
        "\n",
        "dice_sides: int = 6\n",
        "\n",
        "def main():\n",
        "    die_1: int = 5\n",
        "    for i in range(3):\n",
        "        print(f'Die roll no #{i+1}')\n",
        "        print(f'die_1 in main : {die_1}')\n",
        "        roll_dice()\n",
        "        print()\n",
        "\n",
        "def roll_dice():\n",
        "    die_1: int = random.randint(1, dice_sides)\n",
        "    die_2: int = random.randint(1, dice_sides)\n",
        "    total_score: int = die_1 + die_2\n",
        "\n",
        "    # Printing the value in each roll\n",
        "    print(f'die 1 score : {die_1}')\n",
        "    print(f'die 2 score : {die_2}')\n",
        "    print(f'total score : {total_score}')\n",
        "\n",
        "if (__name__ == '__main__'):\n",
        "  main()\n",
        "\n"
      ],
      "metadata": {
        "colab": {
          "base_uri": "https://localhost:8080/"
        },
        "id": "cbxTmA0qvmTS",
        "outputId": "8d469df3-66ea-4642-953c-218bb4366847"
      },
      "execution_count": 3,
      "outputs": [
        {
          "output_type": "stream",
          "name": "stdout",
          "text": [
            "Die roll no #1\n",
            "die_1 in main : 5\n",
            "die 1 score : 6\n",
            "die 2 score : 5\n",
            "total score : 11\n",
            "\n",
            "Die roll no #2\n",
            "die_1 in main : 5\n",
            "die 1 score : 4\n",
            "die 2 score : 6\n",
            "total score : 10\n",
            "\n",
            "Die roll no #3\n",
            "die_1 in main : 5\n",
            "die 1 score : 5\n",
            "die 2 score : 6\n",
            "total score : 11\n",
            "\n"
          ]
        }
      ]
    },
    {
      "cell_type": "markdown",
      "source": [
        "## **02. e=mc^2**\n",
        "### **Problem Statement**\n",
        "---\n",
        "Write a program that continually reads in mass from the user and then outputs the equivalent energy using Einstein's mass-energy equivalence formula (E) stands for energy, (m )stands for mass, and (C) is the speed of light:\n",
        "\n",
        "E = m * c**2\n",
        "\n",
        "Almost 100 years ago, Albert Einstein famously discovered that mass and energy are interchangeable and are related by the above equation. You should ask the user for mass (m) in kilograms and use a constant value for the speed of light -- C = 299792458 m/s.\n",
        "\n",
        "Here's a sample run of the program (user input is in bold italics):\n",
        "\n",
        "Enter kilos of mass: 100\n",
        "\n",
        "e = m * C^2...\n",
        "\n",
        "m = 100.0 kg\n",
        "\n",
        "C = 299792458 m/s\n",
        "\n",
        "8.987551787368176e+18 joules of energy!"
      ],
      "metadata": {
        "id": "wPSKc5vpzwTc"
      }
    },
    {
      "cell_type": "code",
      "source": [
        "C :int = 299792458\n",
        "def main():\n",
        "  #taking user input\n",
        "  user_input : float = float(input(\"Enter the Mass in kilos : \"))\n",
        "  energy_calc(user_input)\n",
        "def energy_calc(mass:float):\n",
        "  m : float = mass\n",
        "  E : float =  m * C**2\n",
        "  print(f'Energy Calclulator')\n",
        "  print(f'Mass(m) = {m}kg')\n",
        "  print(f'Speed of Light(C) = {C}m/s')\n",
        "  print(f\"Accordeing to Einstein's mass-energy equivalence formula\")\n",
        "  print(f'Energy (E) = Mass(m)*Speed of Light(C)^2')\n",
        "  print(f'Energy(E) = {E} joules')\n",
        "\n",
        "if (__name__ == '__main__'):\n",
        "  main()"
      ],
      "metadata": {
        "colab": {
          "base_uri": "https://localhost:8080/"
        },
        "id": "LcgPrT8X1NHZ",
        "outputId": "9c08ae12-0996-4567-9b85-1023d671832d"
      },
      "execution_count": 5,
      "outputs": [
        {
          "output_type": "stream",
          "name": "stdout",
          "text": [
            "Enter the Mass in kilos : 10\n",
            "Energy Calclulator\n",
            "Mass(m) = 10.0kg\n",
            "Speed of Light(C) = 299792458m/s\n",
            "Accordeing to Einstein's mass-energy equivalence formula\n",
            "Energy (E) = Mass(m)*Speed of Light(C)^2\n",
            "Energy(E) = 8.987551787368177e+17 joules\n"
          ]
        }
      ]
    },
    {
      "cell_type": "markdown",
      "source": [
        "## **03. Feet to Inches**\n",
        "### **Problem Statement**\n",
        "---\n",
        "Converts feet to inches. Feet is an American unit of measurement. There are 12 inches per foot. Foot is the singular, and feet is the plural."
      ],
      "metadata": {
        "id": "45QqJhoF71Fx"
      }
    },
    {
      "cell_type": "code",
      "source": [
        "inches_in_a_foot : int = 12\n",
        "def main () :\n",
        "  feet  : float  = float (input(\"Enter the feet : \"))\n",
        "  feet_to_inches(feet)\n",
        "def feet_to_inches(feet:float):\n",
        "  inches : float = feet * inches_in_a_foot\n",
        "  print(f\"{feet} feet is equal to {inches} inches\")\n",
        "if (__name__ == '__main__'):\n",
        "  main()"
      ],
      "metadata": {
        "colab": {
          "base_uri": "https://localhost:8080/"
        },
        "id": "99L8peXD7_Xt",
        "outputId": "4af13b59-f627-46a4-a6e3-c4a8b7711fc8"
      },
      "execution_count": 6,
      "outputs": [
        {
          "output_type": "stream",
          "name": "stdout",
          "text": [
            "Enter the feet : 15\n",
            "15.0 feet is equal to 180.0 inches\n"
          ]
        }
      ]
    },
    {
      "cell_type": "markdown",
      "source": [
        "## **04. Pythagorean Theorem**\n",
        "### **Problem Statement**\n",
        "---\n",
        "Write a program that asks the user for the lengths of the two perpendicular sides of a right triangle and outputs the length of the third side (the hypotenuse) using the Pythagorean theorem!\n",
        "\n",
        "The Pythagorean theorem, named after the ancient Greek thinker, Pythagoras, is a fundamental relation in geometry. It states that in a right triangle, the square of the hypotenuse is equal to the sum of the square of the other two sides.\n",
        "\n",
        "For instance, let's consider a right triangle ABC, with the right angle located at C. According to the Pythagorean theorem:\n",
        "\n",
        "BC ** 2 = AB ** 2 + AC ** 2\n",
        "\n",
        "Your code should read in the lengths of the sides AB and AC, and that outputs the length of the hypotenuse (BC). You will probably find math.sqrt() to be useful.\n",
        "\n",
        "Here's a sample run of the program (user input is in bold italics):\n",
        "\n",
        "Enter the length of AB: 3\n",
        "\n",
        "Enter the length of AC: 4\n",
        "\n",
        "The length of BC (the hypotenuse) is: 5.0"
      ],
      "metadata": {
        "id": "nNLpEjny_YP2"
      }
    },
    {
      "cell_type": "code",
      "source": [
        "import math\n",
        "\n",
        "def main():\n",
        "  AB : float = float(input(\"Enter the length of AB : \"))\n",
        "  AC : float = float(input(\"Enter the length of AC : \"))\n",
        "  BC : float = math.sqrt(AB**2 + AC**2)\n",
        "  print(f'The length of BC (the hypotenuse) is : {BC}')\n",
        "\n",
        "if (__name__ == '__main__'):\n",
        "  main()\n",
        "\n"
      ],
      "metadata": {
        "colab": {
          "base_uri": "https://localhost:8080/"
        },
        "id": "fPoXglqE_1sC",
        "outputId": "1745b558-d016-45e2-fbaf-4f1bad623c76"
      },
      "execution_count": 8,
      "outputs": [
        {
          "output_type": "stream",
          "name": "stdout",
          "text": [
            "Enter the length of AB : 10\n",
            "Enter the length of AC : 14\n",
            "The length of BC (the hypotenuse) is : 17.204650534085253\n"
          ]
        }
      ]
    },
    {
      "cell_type": "markdown",
      "source": [
        "## **05. Remainder Division**\n",
        "### **Problem Statement**\n",
        "---\n",
        "Ask the user for two numbers, one at a time, and then print the result of dividing the first number by the second and also the remainder of the division.\n",
        "\n",
        "Here's a sample run of the program (user input is in bold italics):\n",
        "\n",
        "Please enter an integer to be divided: 5\n",
        "\n",
        "Please enter an integer to divide by: 3\n",
        "\n",
        "The result of this division is 1 with a remainder of 2\n",
        "\n"
      ],
      "metadata": {
        "id": "KNRVTrrBAhV_"
      }
    },
    {
      "cell_type": "code",
      "source": [
        "def main():\n",
        "  number_to_be_divided : int = int(input(\"Please enter an integer to be divided : \"))\n",
        "  number_to_divide_by : int = int(input(\"Please enter an integer to divide by : \"))\n",
        "  remainder_division(number_to_be_divided, number_to_divide_by)\n",
        "def remainder_division(number_to_be_divided:int, number_to_divide_by:int):\n",
        "  remainder : int = number_to_be_divided % number_to_divide_by\n",
        "  quotient : int = number_to_be_divided // number_to_divide_by\n",
        "  print(f\"{number_to_be_divided} divided by {number_to_divide_by} is:\")\n",
        "  print(f'   {quotient} with a remainder of {remainder}')\n",
        "if (__name__ == '__main__'):\n",
        "  main()"
      ],
      "metadata": {
        "colab": {
          "base_uri": "https://localhost:8080/"
        },
        "id": "cMmhAocnDrF5",
        "outputId": "61437ac4-550d-4445-a2a5-ee14e874b863"
      },
      "execution_count": 10,
      "outputs": [
        {
          "output_type": "stream",
          "name": "stdout",
          "text": [
            "Please enter an integer to be divided : 76\n",
            "Please enter an integer to divide by : 6\n",
            "76 divided by 6 is:\n",
            "   12 with a remainder of 4\n"
          ]
        }
      ]
    },
    {
      "cell_type": "markdown",
      "source": [
        "## **06. Roll Dice**\n",
        "### **Problem Statement**\n",
        "---\n",
        "\n",
        "Simulate rolling two dice, and prints results of each roll as well as the total."
      ],
      "metadata": {
        "id": "XE8IO1JWEiVf"
      }
    },
    {
      "cell_type": "code",
      "source": [
        "from re import T\n",
        "import random\n",
        "\n",
        "dice_sides :int = 6\n",
        "def main():\n",
        "  print(f\"Die have {dice_sides} sides each\")\n",
        "  roll_dice()\n",
        "def roll_dice():\n",
        "  die_1 : int = random.randint(1, dice_sides)\n",
        "  die_2 : int = random.randint(1, dice_sides)\n",
        "  total_score : int = die_1 + die_2\n",
        "  print(f'die 1 score : {die_1}')\n",
        "  print(f'die 2 score : {die_2}')\n",
        "  print(f'total score : {total_score}')\n",
        "if (__name__ == '__main__'):\n",
        "  main()\n"
      ],
      "metadata": {
        "colab": {
          "base_uri": "https://localhost:8080/"
        },
        "id": "-M1yMdyDFVGg",
        "outputId": "5b8f2e03-c4f6-4603-d28b-d8ad83ba8d66"
      },
      "execution_count": 11,
      "outputs": [
        {
          "output_type": "stream",
          "name": "stdout",
          "text": [
            "Die have 6 sides each\n",
            "die 1 score : 5\n",
            "die 2 score : 4\n",
            "total score : 9\n"
          ]
        }
      ]
    },
    {
      "cell_type": "markdown",
      "source": [
        "## **06. Seconds In Year**\n",
        "### **Problem Statement**\n",
        "---\n",
        "Use Python to calculate the number of seconds in a year, and tell the user what the result is in a nice print statement that looks like this (of course the value 5 should be the calculated number instead):\n",
        "\n",
        "There are 5 seconds in a year!\n",
        "\n",
        "You should use constants for this exercise -- there are 365 days in a year, 24 hours in a day, 60 minutes in an hour, and 60 seconds per minute."
      ],
      "metadata": {
        "id": "0qalBkNVGNk-"
      }
    },
    {
      "cell_type": "code",
      "source": [
        "num_of_days_in_year : int = 365\n",
        "num_of_hours_in_a_day : int = 24\n",
        "num_of_mintues_in_an_hour : int = 60\n",
        "num_of_seconds_in_a_minute : int = 60\n",
        "\n",
        "def main():\n",
        "  seconds_in_a_year : int = num_of_days_in_year * num_of_hours_in_a_day * num_of_mintues_in_an_hour * num_of_seconds_in_a_minute\n",
        "  print(f'There are {seconds_in_a_year} seconds in a year')\n",
        "if (__name__ == '__main__'):\n",
        "  main()\n"
      ],
      "metadata": {
        "colab": {
          "base_uri": "https://localhost:8080/"
        },
        "id": "uLeZi-ZbGwmw",
        "outputId": "d87a0b34-975d-447b-b0d4-be17f893f798"
      },
      "execution_count": 13,
      "outputs": [
        {
          "output_type": "stream",
          "name": "stdout",
          "text": [
            "There are 31536000 seconds in a year\n"
          ]
        }
      ]
    },
    {
      "cell_type": "markdown",
      "source": [
        "## **07. Tiny Mad Libs**\n",
        "### **Problem Statement**\n",
        "---\n",
        "Write a program which prompts the user for an adjective, then a noun, then a verb, and then prints a fun sentence with those words!\n",
        "\n",
        "Mad Libs is a word game where players are prompted for one word at a time, and the words are eventually filled into the blanks of a word template to make an entertaining story! We've provided you with the beginning of a sentence (the SENTENCE_START constant) which will end in a user-inputted adjective, noun, and then verb.\n",
        "\n",
        "Here's a sample run (user input is in bold italics):\n",
        "\n",
        "Please type an adjective and press enter. tiny\n",
        "\n",
        "Please type a noun and press enter. plant\n",
        "\n",
        "Please type a verb and press enter. fly\n",
        "\n",
        "Code in Place is fun. I learned to program and used Python to make my tiny plant fly!\n"
      ],
      "metadata": {
        "id": "mOIgfsRFHpdU"
      }
    },
    {
      "cell_type": "code",
      "source": [
        "SENTENCE:str = \"on the roof while singing opera!\"\n",
        "def main():\n",
        "  adjective : str = input(\"Please type an adjective and press enter. \")\n",
        "  noun : str = input(\"Please type a noun and press enter. \")\n",
        "  verb : str = input(\"Please type a verb and press enter. \")\n",
        "  print(f\"adjective: {adjective}\")\n",
        "  print(f\"noun: {noun}\")\n",
        "  print(f\"verb: {verb}\")\n",
        "  print(f\"The {adjective} {noun} {verb} {SENTENCE} !\")\n",
        "\n",
        "if __name__ == '__main__':\n",
        "    main()"
      ],
      "metadata": {
        "colab": {
          "base_uri": "https://localhost:8080/"
        },
        "id": "rs7Ey2bkIR_L",
        "outputId": "1fc86526-0104-47e5-a9af-4aef6a32c2f2"
      },
      "execution_count": 16,
      "outputs": [
        {
          "output_type": "stream",
          "name": "stdout",
          "text": [
            "Please type an adjective and press enter. fluffy\n",
            "Please type a noun and press enter. toaster\n",
            "Please type a verb and press enter. danced\n",
            "adjective: fluffy\n",
            "noun: toaster\n",
            "verb: danced\n",
            "The fluffy toaster danced on the roof while singing opera! !\n"
          ]
        }
      ]
    }
  ]
}