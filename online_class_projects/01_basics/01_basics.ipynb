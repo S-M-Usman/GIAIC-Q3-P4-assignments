{
  "nbformat": 4,
  "nbformat_minor": 0,
  "metadata": {
    "colab": {
      "provenance": [],
      "authorship_tag": "ABX9TyN4rjLNcLh0qPUxfsYBQGiv",
      "include_colab_link": true
    },
    "kernelspec": {
      "name": "python3",
      "display_name": "Python 3"
    },
    "language_info": {
      "name": "python"
    }
  },
  "cells": [
    {
      "cell_type": "markdown",
      "metadata": {
        "id": "view-in-github",
        "colab_type": "text"
      },
      "source": [
        "<a href=\"https://colab.research.google.com/github/S-M-Usman/GIAIC-Q3-P4-assignments/blob/main/01_basics.ipynb\" target=\"_parent\"><img src=\"https://colab.research.google.com/assets/colab-badge.svg\" alt=\"Open In Colab\"/></a>"
      ]
    },
    {
      "cell_type": "markdown",
      "source": [
        "# **01. Basics**\n",
        "## **Project 00 : Joke Bot**\n",
        "### **Problem Statement**\n",
        "---\n",
        "If the user enters Joke then we will print out a single joke. Each time the joke is always the same:\n",
        "\n",
        "Here is a joke for you! Panaversity GPT - Sophia is heading out to the grocery store. A programmer tells her: get a liter of milk, and if they have eggs, get 12. Sophia returns with 13 liters of milk. The programmer asks why and Sophia replies: 'because they had eggs'\n",
        "\n",
        "If the user enters anything else we print out:\n",
        "\n",
        "Sorry I only tell jokes\n",
        "\n",
        "You should use the three constants:\n",
        "\n",
        "PROMPT\n",
        "JOKE\n",
        "SORRY\n",
        "\n",
        "which contain the strings for the prompt asked to the user, the joke to print out if the user enters Joke and the sorry message if the user enters anything else.\n",
        "\n",
        "Your program will need to use an if statement which checks if the user input is Joke:\n",
        "\n",
        "if user_input == \"Joke\":\n",
        "\n",
        "Recall that == is a comparison which tests if two values are equal to one another.\n",
        "\n",
        "Here is a full run of the program (user input is in blue):\n",
        "\n",
        "What do you want? Joke\n",
        "Here is a joke for you! Panaversity GPT - Sophia is heading out to the grocery store. A programmer tells her: get a liter of milk, and if they have eggs, get 12. Sophia returns with 13 liters of milk. The programmer asks why and Sophia replies: 'because they had eggs"
      ],
      "metadata": {
        "id": "wQX5yxcO25w4"
      }
    },
    {
      "cell_type": "code",
      "source": [
        "def main():\n",
        "    JOKE: str = \"Panaversity GPT - Sophia is heading out to the grocery store. A programmer tells her: get a liter of milk, and if they have eggs, get 12. Sophia returns with 13 liters of milk. The programmer asks why and Sophia replies: 'because they had eggs'\"\n",
        "    PROMPT: str = \"What do you want? \"\n",
        "    SORRY: str = \"Sorry, I only tell jokes.\"\n",
        "\n",
        "    joke_bot(JOKE, PROMPT, SORRY)\n",
        "\n",
        "def joke_bot(JOKE: str, PROMPT: str, SORRY: str):\n",
        "    user_input = input(PROMPT)\n",
        "    match user_input.lower():\n",
        "        case \"joke\":\n",
        "            print(JOKE)\n",
        "        case _:\n",
        "            print(SORRY)\n",
        "if __name__ == \"__main__\":\n",
        "    main()\n"
      ],
      "metadata": {
        "id": "LhePl4jR3XJD",
        "colab": {
          "base_uri": "https://localhost:8080/"
        },
        "outputId": "3f7b2820-3d76-443b-e502-f5e1447f721e"
      },
      "execution_count": null,
      "outputs": [
        {
          "output_type": "stream",
          "name": "stdout",
          "text": [
            "What do you want? joke\n",
            "Panaversity GPT - Sophia is heading out to the grocery store. A programmer tells her: get a liter of milk, and if they have eggs, get 12. Sophia returns with 13 liters of milk. The programmer asks why and Sophia replies: 'because they had eggs'\n"
          ]
        }
      ]
    },
    {
      "cell_type": "markdown",
      "source": [
        "## **Project 01: Double It**\n",
        "### **Problem Statement**\n",
        "---\n",
        "\n",
        "Write a program that asks a user to enter a number. Your program will then double that number and print out the result. It will repeat that process until the value is 100 or greater.\n",
        "\n",
        "For example if the user enters the number 2 you would then print:\n",
        "\n",
        "4\n",
        "8\n",
        "16\n",
        "32\n",
        "64\n",
        "128\n",
        "\n",
        "Note that:\n",
        "\n",
        "2 doubled is 4\n",
        "\n",
        "4 doubled is 8\n",
        "\n",
        "8 doubled is 16\n",
        "\n",
        "and so on.\n",
        "\n",
        "We stop at 128 because that value is greater than 100.\n",
        "\n",
        "Maintain the current number in a variable named curr_value. When you double the number, you should be updating curr_value. Recall that you can double the value of curr_value using a line like:\n",
        "\n",
        "curr_value = curr_value * 2\n",
        "\n",
        "This program should have a while loop and the while loop condition should test if curr_value is less than 100. Thus, your program will have the line:\n",
        "\n",
        "while curr_value < 100:"
      ],
      "metadata": {
        "id": "6iCSG2Ej3ZMH"
      }
    },
    {
      "cell_type": "code",
      "source": [
        "def main():\n",
        "  user_number : int  = int (input(\"Enter a number: \"))\n",
        "  double_it(user_number)\n",
        "\n",
        "def double_it(user_number: int):\n",
        "  curr_value = user_number\n",
        "  while curr_value < 100:\n",
        "    curr_value = curr_value * 2\n",
        "    print(curr_value)\n",
        "\n",
        "if __name__ == \"__main__\":\n",
        "  main()"
      ],
      "metadata": {
        "id": "rk43C_T03yj8",
        "colab": {
          "base_uri": "https://localhost:8080/"
        },
        "outputId": "48c25c66-ec0b-41aa-9bc0-cd622a77ebbc"
      },
      "execution_count": 2,
      "outputs": [
        {
          "output_type": "stream",
          "name": "stdout",
          "text": [
            "Enter a number: 10\n",
            "20\n",
            "40\n",
            "80\n",
            "160\n"
          ]
        }
      ]
    },
    {
      "cell_type": "markdown",
      "source": [
        "## **Project 02 : Liftoff**\n",
        "### **Problem Statement**\n",
        "---\n",
        "Write a program that prints out the calls for a spaceship that is about to launch. Countdown from 10 to 1 and then output Liftoff!\n",
        "\n",
        "Here's a sample run of the program:\n",
        "\n",
        "10\n",
        "9\n",
        "8\n",
        "7\n",
        "6\n",
        "5\n",
        "4\n",
        "3\n",
        "2\n",
        "1\n",
        "Liftoff!\n",
        "\n",
        "There are many ways to solve this problem. One approach is to use a for loop, and to use the for loop variable i. Recall that i will keep track of how many times the for loop has completed executing its body. As an example this code:\n",
        "\n",
        "for i in range(10):\n",
        "    print(i)\n",
        "\n",
        "Will print out the values 0, 1, 2, 3, 4, 5, 6, 7, 8, 9. The values printed in liftoff are 10 minus the number of times the for loop has completed.\n"
      ],
      "metadata": {
        "id": "pc2WNuFp7tzl"
      }
    },
    {
      "cell_type": "code",
      "source": [
        "import sys\n",
        "def main():\n",
        "   print('Liftoff In!')\n",
        "   lift_off(10)\n",
        "def lift_off(count: int):\n",
        "  while count > 0:\n",
        "    sys.stdout.write(f\"{count}\\n\")\n",
        "    sys.stdout.flush()\n",
        "    count -= 1\n",
        "  print(\"Liftoff!\")\n",
        "\n",
        "\n",
        "if __name__ == \"__main__\":\n",
        "  main()"
      ],
      "metadata": {
        "colab": {
          "base_uri": "https://localhost:8080/"
        },
        "id": "t38iWlqV9HTh",
        "outputId": "d38f9f33-8984-4f88-9ffe-e9b0a2a4afbd"
      },
      "execution_count": 6,
      "outputs": [
        {
          "output_type": "stream",
          "name": "stdout",
          "text": [
            "Liftoff In!\n",
            "10\n",
            "9\n",
            "8\n",
            "7\n",
            "6\n",
            "5\n",
            "4\n",
            "3\n",
            "2\n",
            "1\n",
            "Liftoff!\n"
          ]
        }
      ]
    },
    {
      "cell_type": "markdown",
      "source": [
        "## **Project 03: Guess My Number**\n",
        "### **Problem Statement**\n",
        "---\n",
        "Guess My Number\n",
        "\n",
        "I am thinking of a number between 0 and 99...\n",
        "Enter a guess: 50\n",
        "Your guess is too high\n",
        "\n",
        "Enter a new number: 25\n",
        "Your guess is too low\n",
        "\n",
        "Enter a new number: 40\n",
        "Your guess is too low\n",
        "\n",
        "Enter a new number: 45\n",
        "Your guess is too low\n",
        "\n",
        "Enter a new number: 48\n",
        "Congrats! The number was: 48\n"
      ],
      "metadata": {
        "id": "aGx2Yrdm_sPJ"
      }
    },
    {
      "cell_type": "code",
      "source": [
        "import random\n",
        "\n",
        "def main():\n",
        "    user_input: int = int(input(\"ENTER A NUMBER BETWEEN 0 AND 99: \"))\n",
        "    print(\"Let me try to guess your number!\")\n",
        "    computer_guess(user_input)\n",
        "\n",
        "def computer_guess(num: int):\n",
        "    low: int = 0\n",
        "    high: int = 99\n",
        "    user_feedback: str = \"\"\n",
        "\n",
        "    while user_feedback != \"c\":\n",
        "        guess: int = random.randint(low, high)\n",
        "        user_feedback = input(f\"Is {guess} your number? (c for correct, h for too high, l for too low): \").lower()\n",
        "\n",
        "        match user_feedback:\n",
        "            case \"h\":\n",
        "                high = guess - 1\n",
        "            case \"l\":\n",
        "                low = guess + 1\n",
        "            case \"c\":\n",
        "                print(f\"Yay! The computer guessed your number, {guess}, correctly!\")\n",
        "            case _:\n",
        "                print(\"Invalid input. Please enter 'c', 'h', or 'l'.\")\n",
        "\n",
        "if __name__ == \"__main__\":\n",
        "    main()\n"
      ],
      "metadata": {
        "colab": {
          "base_uri": "https://localhost:8080/"
        },
        "id": "K5B0UlYZ_r4m",
        "outputId": "f864af07-e24e-465d-eb4b-f5fd10090bf2"
      },
      "execution_count": 9,
      "outputs": [
        {
          "output_type": "stream",
          "name": "stdout",
          "text": [
            "ENTER A NUMBER BETWEEN 0 AND 99: 99\n",
            "Let me try to guess your number!\n",
            "Is 19 your number? (c for correct, h for too high, l for too low): l\n",
            "Is 60 your number? (c for correct, h for too high, l for too low): l\n",
            "Is 80 your number? (c for correct, h for too high, l for too low): l\n",
            "Is 98 your number? (c for correct, h for too high, l for too low): l\n",
            "Is 99 your number? (c for correct, h for too high, l for too low): c\n",
            "Yay! The computer guessed your number, 99, correctly!\n"
          ]
        }
      ]
    },
    {
      "cell_type": "markdown",
      "source": [
        "## **Project 04 : Random Numbers**\n",
        "### **Problem Statement**\n",
        "---\n",
        "\n",
        "Print 10 random numbers in the range 1 to 100.\n",
        "\n",
        "Here is an example run:\n",
        "\n",
        "45\n",
        "79\n",
        "61\n",
        "47\n",
        "52\n",
        "10\n",
        "16\n",
        "83\n",
        "19\n",
        "12\n",
        "\n",
        "Each time you run your program you should get different numbers\n",
        "\n",
        "81\n",
        "76\n",
        "70\n",
        "1\n",
        "27\n",
        "63\n",
        "96\n",
        "100\n",
        "32\n",
        "92\n",
        "\n",
        "Recall that the python random library has a function randint which returns an integer in the range set by the parameters (inclusive). For example this call would produce a random integer between 1 and 6, which could include 1 and could include 6:\n",
        "\n",
        "value = random.randint(1, 6)\n"
      ],
      "metadata": {
        "id": "kwO0XcJjE9Qx"
      }
    },
    {
      "cell_type": "code",
      "source": [
        "from os import lstat\n",
        "import random\n",
        "\n",
        "lst = []\n",
        "def random_numbers():\n",
        "\n",
        "  for i in range(10):\n",
        "    lst.append(random.randint(1,100))\n",
        "\n",
        "  print(*lst)\n",
        "if __name__ == \"__main__\":\n",
        "  random_numbers()"
      ],
      "metadata": {
        "colab": {
          "base_uri": "https://localhost:8080/"
        },
        "id": "aOUOxqIChHzA",
        "outputId": "56647c6b-2014-4961-8ca4-9a3c0516d2f7"
      },
      "execution_count": 10,
      "outputs": [
        {
          "output_type": "stream",
          "name": "stdout",
          "text": [
            "34 13 44 38 90 55 35 18 41 38\n"
          ]
        }
      ]
    }
  ]
}