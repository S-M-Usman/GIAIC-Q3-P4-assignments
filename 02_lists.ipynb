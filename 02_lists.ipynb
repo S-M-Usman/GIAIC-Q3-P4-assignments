{
  "nbformat": 4,
  "nbformat_minor": 0,
  "metadata": {
    "colab": {
      "provenance": [],
      "authorship_tag": "ABX9TyNkOX3OiMgEWWv0gCOQRpel",
      "include_colab_link": true
    },
    "kernelspec": {
      "name": "python3",
      "display_name": "Python 3"
    },
    "language_info": {
      "name": "python"
    }
  },
  "cells": [
    {
      "cell_type": "markdown",
      "metadata": {
        "id": "view-in-github",
        "colab_type": "text"
      },
      "source": [
        "<a href=\"https://colab.research.google.com/github/S-M-Usman/GIAIC-Q3-P4-assignments/blob/main/02_lists.ipynb\" target=\"_parent\"><img src=\"https://colab.research.google.com/assets/colab-badge.svg\" alt=\"Open In Colab\"/></a>"
      ]
    },
    {
      "cell_type": "markdown",
      "source": [
        "# **Project 02: Lists**\n",
        "\n",
        "## **01. Add Many Numbers**\n",
        "### **Problem Statement**\n",
        "---\n",
        "Write a function that takes a list of numbers and returns the sum of those numbers.\n"
      ],
      "metadata": {
        "id": "SrliTU7QVqQK"
      }
    },
    {
      "cell_type": "code",
      "source": [
        "def main():\n",
        "  list_of_numbers:list[int]=[1,2,3,4,5,6,7,8,9,10]\n",
        "  sum :int =  add_many_numbers(list_of_numbers)\n",
        "  print(f\"The sum of  {list_of_numbers} is:  {sum} \")\n",
        "def add_many_numbers(numbers:list):\n",
        "  sum:int = 0\n",
        "  for number in numbers:\n",
        "    sum += number\n",
        "  return sum\n",
        "if (__name__ == \"__main__\"):\n",
        "  main()\n"
      ],
      "metadata": {
        "colab": {
          "base_uri": "https://localhost:8080/"
        },
        "id": "aAorTDRGWOkY",
        "outputId": "ffb2a5db-bd01-47c6-ce7b-e3e913fed28e"
      },
      "execution_count": null,
      "outputs": [
        {
          "output_type": "stream",
          "name": "stdout",
          "text": [
            "The sum of  [1, 2, 3, 4, 5, 6, 7, 8, 9, 10] is:  55 \n"
          ]
        }
      ]
    },
    {
      "cell_type": "markdown",
      "source": [
        "## **02. Doubled List**\n",
        "\n",
        "### **Problem Statement**\n",
        "---\n",
        "Write a program that doubles each element in a list of numbers. For example, if you start with this list:\n",
        "\n",
        "numbers = [1, 2, 3, 4]\n",
        "\n",
        "You should end with this list:\n",
        "\n",
        "numbers = [2, 4, 6, 8]\n",
        "\n",
        "\n"
      ],
      "metadata": {
        "id": "P_KgB-UOXZdh"
      }
    },
    {
      "cell_type": "code",
      "source": [
        "def main():\n",
        "  numbers : list[int] = [1,2,3,4,5,6,7,8,9,10]\n",
        "  doubled_numbers : list[int] = double_list(numbers)\n",
        "  print(f\"The doubled list of {numbers} is: {doubled_numbers}\")\n",
        "def double_list(numbers:list):\n",
        "  doubled_numbers : list[int] = []\n",
        "  for number in numbers:\n",
        "    doubled_numbers.append(number*2)\n",
        "  return doubled_numbers\n",
        "if (__name__ == \"__main__\"):\n",
        "  main()"
      ],
      "metadata": {
        "colab": {
          "base_uri": "https://localhost:8080/"
        },
        "id": "OcNcqGr1ZSOl",
        "outputId": "32134bfb-587c-4711-e93f-de3675eacac5"
      },
      "execution_count": null,
      "outputs": [
        {
          "output_type": "stream",
          "name": "stdout",
          "text": [
            "The doubled list of [1, 2, 3, 4, 5, 6, 7, 8, 9, 10] is: [2, 4, 6, 8, 10, 12, 14, 16, 18, 20]\n"
          ]
        }
      ]
    },
    {
      "cell_type": "markdown",
      "source": [
        "## **03. Erase Canvas**\n",
        "### **Problem Statement**\n",
        "---\n",
        "Implement an 'eraser' on a canvas.\n",
        "\n",
        "The canvas consists of a grid of blue 'cells' which are drawn as rectangles on the screen. We then create an eraser rectangle which, when dragged around the canvas, sets all of the rectangles it is in contact with to white.\n"
      ],
      "metadata": {
        "id": "R2uXV7b_aFAT"
      }
    },
    {
      "cell_type": "code",
      "source": [
        "from graphics import Canvas  # Correct import\n",
        "import time  # Needed for animation delay\n",
        "\n",
        "# Constants\n",
        "CANVAS_WIDTH = 500\n",
        "CANVAS_HEIGHT = 500\n",
        "CELL_SIZE = 40\n",
        "ERASER_SIZE = 20\n",
        "\n",
        "def main():\n",
        "    # Create a canvas\n",
        "    canvas = Canvas(CANVAS_WIDTH, CANVAS_HEIGHT)\n",
        "\n",
        "    # Calculate grid size\n",
        "    no_of_rows = CANVAS_HEIGHT // CELL_SIZE\n",
        "    no_of_cols = CANVAS_WIDTH // CELL_SIZE\n",
        "\n",
        "    # Draw the grid\n",
        "    for row in range(no_of_rows):\n",
        "        for col in range(no_of_cols):\n",
        "            left_x = col * CELL_SIZE\n",
        "            top_y = row * CELL_SIZE\n",
        "            right_x = left_x + CELL_SIZE\n",
        "            bottom_y = top_y + CELL_SIZE\n",
        "\n",
        "            # Draw a blue rectangle for each cell\n",
        "            canvas.draw_rectangle(left_x, top_y, right_x, bottom_y, \"blue\")\n",
        "\n",
        "    # Wait for user to click\n",
        "    canvas.wait_for_click()\n",
        "    last_click_x, last_click_y = canvas.get_last_click()  # Get initial eraser position\n",
        "\n",
        "    # Create the eraser\n",
        "    eraser = canvas.create_rectangle(\n",
        "        last_click_x, last_click_y,\n",
        "        last_click_x + ERASER_SIZE, last_click_y + ERASER_SIZE,\n",
        "        \"pink\"\n",
        "    )\n",
        "\n",
        "    # Move eraser with mouse and erase overlapping objects\n",
        "    while True:\n",
        "        mouse_x = canvas.get_mouse_x()\n",
        "        mouse_y = canvas.get_mouse_y()\n",
        "\n",
        "        # Move the eraser to follow the mouse\n",
        "        canvas.moveto(eraser, mouse_x, mouse_y)\n",
        "\n",
        "        # Erase objects under the eraser\n",
        "        object_eraser(canvas, eraser)\n",
        "\n",
        "        time.sleep(0.05)  # Smooth movement\n",
        "\n",
        "def object_eraser(canvas, eraser):\n",
        "    \"\"\" Erases objects (except the eraser itself) when they overlap with the eraser. \"\"\"\n",
        "    left_x = canvas.get_mouse_x()\n",
        "    top_y = canvas.get_mouse_y()\n",
        "    right_x = left_x + ERASER_SIZE\n",
        "    bottom_y = top_y + ERASER_SIZE\n",
        "\n",
        "    # Find overlapping objects\n",
        "    overlapping_objects = canvas.find_objects_at(left_x, top_y, right_x, bottom_y)\n",
        "\n",
        "    for obj in overlapping_objects:\n",
        "        if obj != eraser:  # Ensure we don't erase the eraser itself\n",
        "            canvas.set_color(obj, \"white\")  # Change color to white to simulate erasing\n",
        "\n",
        "# Run the program\n",
        "if (__name__ == \"__main__\"):\n",
        "    main()\n"
      ],
      "metadata": {
        "id": "hB-HNcNBzpg1"
      },
      "execution_count": null,
      "outputs": []
    },
    {
      "cell_type": "markdown",
      "source": [
        "## **04. Flowing with Data Structures**\n",
        "### **Problem Statement**\n",
        "---\n",
        "\n",
        "In the information flow lesson, we discussed using a variable storing a number as an example of scope. We saw that changes we made to the number inside a function did not stay unless we returned it. This is true for what we call immutable data types which include things like numbers and strings.\n",
        "\n",
        "However, there are also mutable data types where changes stay even if we don't return anything. Some examples of mutable data types are lists and dictionaries. This means that you should be mindful when modifying lists and dictionaries within helper functions since their changes stay whether or not you return them.\n",
        "\n",
        "To see this in action, fill out the add_three_copies(...) function which takes a list and some data and then adds three copies of the data to the list. Don't return anything and see what happens! Compare this process to the x = change(x) example and note the differences.\n",
        "\n",
        "Here is an example run of this program (user input in bold italics):\n",
        "\n",
        "Enter a message to copy: Hello world!\n",
        "\n",
        "List before: []\n",
        "\n",
        "List after: ['Hello world!', 'Hello world!', 'Hello world!']\n",
        "\n",
        "(Note. The concept of immutable/mutable data types is called mutability. Be careful because different programming languages have different rules regarding mutability!)\n"
      ],
      "metadata": {
        "id": "qa9Qtk0xzrTe"
      }
    },
    {
      "cell_type": "code",
      "source": [
        "def main():\n",
        " my_list :list = []\n",
        " print(f\"List before: {my_list}\")\n",
        " add_message(my_list)\n",
        " print(f\"List after: {my_list}\")\n",
        "def add_message(my_list:list ):\n",
        "  for i in range(3):\n",
        "   message :str = input(\"Enter a message to copy: \")\n",
        "   my_list.append(message)\n",
        "if (__name__ == \"__main__\"):\n",
        "  main()"
      ],
      "metadata": {
        "colab": {
          "base_uri": "https://localhost:8080/"
        },
        "id": "WiJ5r6Cp0eCe",
        "outputId": "c44d72f8-93d0-43d1-c7bf-44d98f0b5624"
      },
      "execution_count": 9,
      "outputs": [
        {
          "output_type": "stream",
          "name": "stdout",
          "text": [
            "List before: []\n",
            "Enter a message to copy: hello world\n",
            "Enter a message to copy: my name is Usman\n",
            "Enter a message to copy: we are muslim\n",
            "List after: ['hello world', 'my name is Usman', 'we are muslim']\n"
          ]
        }
      ]
    },
    {
      "cell_type": "markdown",
      "source": [
        "## **05. Get First Elements**\n",
        "### **Problem Statement**\n",
        "---\n",
        "Fill out the function get_first_element(lst) which takes in a list lst as a parameter and prints the first element in the list. The list is guaranteed to be non-empty. We've written some code for you which prompts the user to input the list one element at a time"
      ],
      "metadata": {
        "id": "Qkxpq9L715AD"
      }
    },
    {
      "cell_type": "code",
      "source": [
        "def get_first_element(lst):\n",
        "    print(lst[0])\n",
        "\n",
        "def get_lst():\n",
        "    user_lst :list = []\n",
        "    ele = input('Enter an element in list or press enter to stop: ')\n",
        "\n",
        "    while ele != '':\n",
        "        user_lst.append(ele)\n",
        "        ele = input('Enter an element in list or press enter to stop: ')\n",
        "\n",
        "    return user_lst\n",
        "\n",
        "def main():\n",
        "    lst = get_lst()\n",
        "    if len(lst) == 0:\n",
        "        print('List is empty')\n",
        "    else:\n",
        "        get_first_element(lst)\n",
        "\n",
        "if __name__ == '__main__':\n",
        "    main()\n"
      ],
      "metadata": {
        "colab": {
          "base_uri": "https://localhost:8080/"
        },
        "id": "yC9LKXcf2ZTB",
        "outputId": "9fd911cb-3a2f-4650-c76b-4c7fe41b0ee8"
      },
      "execution_count": 16,
      "outputs": [
        {
          "output_type": "stream",
          "name": "stdout",
          "text": [
            "Enter an element in list or press enter to stop: hi\n",
            "Enter an element in list or press enter to stop: hello\n",
            "Enter an element in list or press enter to stop: we\n",
            "Enter an element in list or press enter to stop: \n",
            "hi\n"
          ]
        }
      ]
    },
    {
      "cell_type": "markdown",
      "source": [
        "## **06. Get Last Element**\n",
        "## **Problem Statement**\n",
        "---\n",
        "\n",
        "Fill out the function get_last_element(lst) which takes in a list lst as a parameter and prints the last element in the list. The list is guaranteed to be non-empty, but there are no guarantees on its length.\n"
      ],
      "metadata": {
        "id": "o75CQCiL7OnM"
      }
    },
    {
      "cell_type": "code",
      "source": [
        "def get_last_element(lst):\n",
        "    print(lst[len(lst)-1])\n",
        "\n",
        "def get_last():\n",
        "    user_lst :list = []\n",
        "    ele = input('Enter an element in list or press enter to stop: ')\n",
        "\n",
        "    while ele != '':\n",
        "        user_lst.append(ele)\n",
        "        ele = input('Enter an element in list or press enter to stop: ')\n",
        "\n",
        "    return user_lst\n",
        "\n",
        "def main():\n",
        "    lst = get_last()\n",
        "    if len(lst) == 0:\n",
        "        print('List is empty')\n",
        "    else:\n",
        "        get_last_element(lst)\n",
        "\n",
        "if __name__ == '__main__':\n",
        "    main()\n"
      ],
      "metadata": {
        "colab": {
          "base_uri": "https://localhost:8080/"
        },
        "id": "jSd9YvID7-fS",
        "outputId": "fea5015b-fe6c-428e-e917-6ad0d5fb489e"
      },
      "execution_count": 17,
      "outputs": [
        {
          "output_type": "stream",
          "name": "stdout",
          "text": [
            "Enter an element in list or press enter to stop: hi\n",
            "Enter an element in list or press enter to stop: hello\n",
            "Enter an element in list or press enter to stop: we\n",
            "Enter an element in list or press enter to stop: \n",
            "we\n"
          ]
        }
      ]
    },
    {
      "cell_type": "markdown",
      "source": [
        "## **07. Get List**\n",
        "### **Problem Statement**\n",
        "---\n",
        "Write a program which continuously asks the user to enter values which are added one by one into a list. When the user presses enter without typing anything, print the list.\n",
        "\n",
        "Here's a sample run (user input is in blue):\n",
        "\n",
        "Enter a value: 1\n",
        "Enter a value: 2\n",
        "Enter a value: 3\n",
        "Enter a value:\n",
        "Here's the list: ['1', '2', '3']\n"
      ],
      "metadata": {
        "id": "zw12wllf87zB"
      }
    },
    {
      "cell_type": "code",
      "source": [
        "def main():\n",
        "  mylist :list = []\n",
        "  element :str = input(\"Enter a value: \")\n",
        "  while element != \"\":\n",
        "    mylist.append(element)\n",
        "    element = input(\"Enter a value: \")\n",
        "  print(f\"Here's the list: {mylist}\")\n",
        "if (__name__ == \"__main__\"):\n",
        "  main()"
      ],
      "metadata": {
        "colab": {
          "base_uri": "https://localhost:8080/"
        },
        "id": "ZeZo__Ij_e6w",
        "outputId": "1d55d0df-34b9-4e9c-c168-405c7009da8f"
      },
      "execution_count": 18,
      "outputs": [
        {
          "output_type": "stream",
          "name": "stdout",
          "text": [
            "Enter a value: 1\n",
            "Enter a value: 2\n",
            "Enter a value: 3\n",
            "Enter a value: 4\n",
            "Enter a value: \n",
            "Here's the list: ['1', '2', '3', '4']\n"
          ]
        }
      ]
    },
    {
      "cell_type": "markdown",
      "source": [
        "## **08. Shorten**\n",
        "### **Problem Statement**\n",
        "---\n",
        "Fill out the function shorten(lst) which removes elements from the end of lst, which is a list, and prints each item it removes until lst is MAX_LENGTH items long. If lst is already shorter than MAX_LENGTH you should leave it unchanged. We've written a main() function for you which gets a list and passes it into your function once you run the program. For the autograder to pass you will need MAX_LENGTH to be 3, but feel free to change it around to test your program."
      ],
      "metadata": {
        "id": "EQxArpbm_3CH"
      }
    },
    {
      "cell_type": "code",
      "source": [
        "max_length : int = 6\n",
        "\n",
        "def main():\n",
        "  my_list : list =get_list()\n",
        "  shorten_lst(my_list)\n",
        "\n",
        "def get_list():\n",
        "    my_list :list  = []\n",
        "    element :str = input('Enter an element in list or press enter to stop: ')\n",
        "\n",
        "    while element != '':\n",
        "        my_list.append(element)\n",
        "        element = input('Enter an element in list or press enter to stop: ')\n",
        "\n",
        "    return my_list\n",
        "\n",
        "\n",
        "def shorten_lst(lst):\n",
        "\n",
        "  while len(lst) > max_length:\n",
        "    last_ele =lst.pop()\n",
        "    print(last_ele)\n",
        "\n",
        "\n",
        "\n",
        "if __name__ == '__main__':\n",
        "  main()"
      ],
      "metadata": {
        "colab": {
          "base_uri": "https://localhost:8080/"
        },
        "id": "1IAYrfmNAZ3l",
        "outputId": "f9182f5a-afc5-4f0e-8948-8f8fac435cdd"
      },
      "execution_count": 20,
      "outputs": [
        {
          "output_type": "stream",
          "name": "stdout",
          "text": [
            "Enter an element in list or press enter to stop: hi\n",
            "Enter an element in list or press enter to stop: i\n",
            "Enter an element in list or press enter to stop: i\n",
            "Enter an element in list or press enter to stop: he\n",
            "Enter an element in list or press enter to stop: she\n",
            "Enter an element in list or press enter to stop: it\n",
            "Enter an element in list or press enter to stop: we\n",
            "Enter an element in list or press enter to stop: me\n",
            "Enter an element in list or press enter to stop: \n",
            "me\n",
            "we\n"
          ]
        }
      ]
    }
  ]
}