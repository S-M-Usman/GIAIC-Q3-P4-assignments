{
  "nbformat": 4,
  "nbformat_minor": 0,
  "metadata": {
    "colab": {
      "provenance": [],
      "authorship_tag": "ABX9TyNCceKjcpO6g9Audg2O1WHY",
      "include_colab_link": true
    },
    "kernelspec": {
      "name": "python3",
      "display_name": "Python 3"
    },
    "language_info": {
      "name": "python"
    }
  },
  "cells": [
    {
      "cell_type": "markdown",
      "metadata": {
        "id": "view-in-github",
        "colab_type": "text"
      },
      "source": [
        "<a href=\"https://colab.research.google.com/github/S-M-Usman/GIAIC-Q3-P4-assignments/blob/main/00_intro_python.ipynb\" target=\"_parent\"><img src=\"https://colab.research.google.com/assets/colab-badge.svg\" alt=\"Open In Colab\"/></a>"
      ]
    },
    {
      "cell_type": "markdown",
      "source": [
        "# **Project 00 : Intro To Python**"
      ],
      "metadata": {
        "id": "mBLPyD0w6vRK"
      }
    },
    {
      "cell_type": "markdown",
      "source": [
        "## **01.  Add Two Numbers**\n",
        "\n",
        "### **Problem Statement**\n",
        "---\n",
        "Write a Python program that takes two integer inputs from the user and calculates their sum. The program should perform the following tasks:\n",
        "\n",
        "1. Prompt the user to enter the first number.\n",
        "\n",
        "2. Read the input and convert it to an integer.\n",
        "\n",
        "3. Prompt the user to enter the second number.\n",
        "\n",
        "4. Read the input and convert it to an integer.\n",
        "\n",
        "5. Calculate the sum of the two numbers.\n",
        "\n",
        "6. Print the total sum with an appropriate message.\n",
        "\n",
        "\n"
      ],
      "metadata": {
        "id": "ffPN8pJn7its"
      }
    },
    {
      "cell_type": "code",
      "source": [
        "def main ():\n",
        "  #prompt user for the first input\n",
        "  user_input_1 : str = input('Enter first Input : ')\n",
        "  user_input_2 : str = input('Enter Second Input: ')\n",
        "  # convert to integar\n",
        "  num1 :int = int( user_input_1)\n",
        "  num2 :int = int(user_input_2)\n",
        "  sum : int = num1 +num2\n",
        "  print(f'The sum of the two number provided is {sum}')\n",
        "if (__name__ == '__main__' ):\n",
        "   main()"
      ],
      "metadata": {
        "colab": {
          "base_uri": "https://localhost:8080/"
        },
        "id": "WMqgW94N9cJH",
        "outputId": "8641baf2-14e3-4d1c-a78d-05950bfae294"
      },
      "execution_count": null,
      "outputs": [
        {
          "output_type": "stream",
          "name": "stdout",
          "text": [
            "Enter first Input : 10\n",
            "Enter Second Input: 4\n",
            "The sum of the two number provided is 14\n"
          ]
        }
      ]
    },
    {
      "cell_type": "markdown",
      "source": [],
      "metadata": {
        "id": "UW2wC2O8kl9d"
      }
    },
    {
      "cell_type": "markdown",
      "source": [
        "## **02. Agreement Bot**\n",
        "\n",
        "### **Problem Statement**\n",
        "---\n",
        "Write a program which asks the user what their favorite animal is, and then always responds with \"My favorite animal is also ___!\" (the blank should be filled in with the user-inputted animal, of course).\n",
        "\n"
      ],
      "metadata": {
        "id": "T8Yz4QRDEL-X"
      }
    },
    {
      "cell_type": "code",
      "source": [
        "def main () :\n",
        "  ## taking input from the user\n",
        "  user_input :str = input(\"Enter your Favourite animal: \")\n",
        "  agreement :str =f'My favourite animal is also {user_input}!'\n",
        "  print(agreement)\n",
        "\n",
        "if (__name__ == \"__main__\"):\n",
        "    main()"
      ],
      "metadata": {
        "id": "zB2YlnPqFF1k",
        "colab": {
          "base_uri": "https://localhost:8080/"
        },
        "outputId": "bd3174d6-27f3-4ebf-f25d-b03691083d4b"
      },
      "execution_count": null,
      "outputs": [
        {
          "output_type": "stream",
          "name": "stdout",
          "text": [
            "Enter your Favourite animal: cat\n",
            "My favourite animal is also cat!\n"
          ]
        }
      ]
    },
    {
      "cell_type": "markdown",
      "source": [
        "## **03. Fahrenhiet to Celsius**\n",
        "\n",
        "### **Problem Statement**\n",
        "---\n",
        "Write a program which prompts the user for a temperature in Fahrenheit (this can be a number with decimal places!) and outputs the temperature converted to Celsius.\n",
        "\n",
        "The Celsius scale is widely used to measure temperature, but places still use Fahrenheit. Fahrenheit is another unit for temperature, but the scale is different from Celsius -- for example, 0 degrees Celsius is 32 degrees Fahrenheit!\n",
        "\n",
        "The equation you should use for converting from Fahrenheit to Celsius is the following:\n",
        "\n",
        "degrees_celsius = (degrees_fahrenheit - 32) * 5.0/9.0\n",
        "\n",
        "(Note. The .0 after the 5 and 9 matters in the line above!!!)\n",
        "\n",
        "Here's a sample run of the program (user input is in bold italics):\n",
        "\n",
        "Enter temperature in Fahrenheit: 76\n",
        "\n",
        "Temperature: 76.0F = 24.444444444444443C\n"
      ],
      "metadata": {
        "id": "y80QoAORktoR"
      }
    },
    {
      "cell_type": "code",
      "source": [
        "def main() :\n",
        "    user_input :str = input('Enter a temperature in fahrenhiet : ')\n",
        "    degrees_fahrenheit :float = float(user_input)\n",
        "    degrees_celsius:float = (degrees_fahrenheit-32) * 5.0/9.0\n",
        "    print(f\"The temperature in degree celsius of the given temperature is {degrees_celsius}\")\n",
        "\n",
        "if (__name__ == \"__main__\"):\n",
        "  main()"
      ],
      "metadata": {
        "colab": {
          "base_uri": "https://localhost:8080/"
        },
        "id": "sFm4KJWllqtk",
        "outputId": "b7ad6776-2491-4e45-b7a0-cf9102dd13d3"
      },
      "execution_count": null,
      "outputs": [
        {
          "output_type": "stream",
          "name": "stdout",
          "text": [
            "Enter a temperature in fahrenhiet : 21\n",
            "The temperature in degree celsius of the given temperature is -6.111111111111111\n"
          ]
        }
      ]
    },
    {
      "cell_type": "markdown",
      "source": [],
      "metadata": {
        "id": "XkyjDi3hQypE"
      }
    },
    {
      "cell_type": "markdown",
      "source": [
        "## **04. How Old Are They**\n",
        "\n",
        "### **Problem Statement**\n",
        "---\n",
        "Write a program to solve this age-related riddle!\n",
        "\n",
        "Anton, Beth, Chen, Drew, and Ethan are all friends. Their ages are as follows:\n",
        "\n",
        "Anton is 21 years old.\n",
        "\n",
        "Beth is 6 years older than Anton.\n",
        "\n",
        "Chen is 20 years older than Beth.\n",
        "\n",
        "Drew is as old as Chen's age plus Anton's age.\n",
        "\n",
        "Ethan is the same age as Chen.\n",
        "\n",
        "Your code should store each person's age to a variable and print their names and ages at the end. The autograder is sensitive to capitalization and punctuation, be careful! Your solution should look like this (the below numbers are made up -- your solution should have the correct values!):\n",
        "\n",
        "\n",
        "```\n",
        "Anton is 3\n",
        "\n",
        "Beth is 4\n",
        "\n",
        "Chen is 5\n",
        "\n",
        "Drew is 6\n",
        "\n",
        "Ethan is 7\n",
        "```"
      ],
      "metadata": {
        "id": "0-bU5aXvqA4N"
      }
    },
    {
      "cell_type": "code",
      "source": [
        "def main():\n",
        "  Anton :int = 21\n",
        "  Beth : int = Anton + 6\n",
        "  Chen :int = Beth + 20\n",
        "  Drew : int = Chen + Anton\n",
        "  Ethan = Chen\n",
        "  # printing the following\n",
        "  print(f\"Anton is {Anton}\")\n",
        "  print(f\"Beth is {Beth}\")\n",
        "  print(f\"Chen is {Chen}\")\n",
        "  print(f\"Drew is {Drew}\")\n",
        "  print(f\"Ethan is {Ethan}\")\n",
        "if (__name__ == \"__main__\"):\n",
        "  main()"
      ],
      "metadata": {
        "colab": {
          "base_uri": "https://localhost:8080/"
        },
        "id": "GfIjwWqaqnGu",
        "outputId": "93a15e5d-b52c-4f97-ca40-c9b526caa799"
      },
      "execution_count": null,
      "outputs": [
        {
          "output_type": "stream",
          "name": "stdout",
          "text": [
            "Anton is 21\n",
            "Beth is 27\n",
            "Chen is 47\n",
            "Drew is 68\n",
            "Ethan is 47\n"
          ]
        }
      ]
    },
    {
      "cell_type": "markdown",
      "source": [
        "## **05. Triangle Parimeter**\n",
        "### **Problem Statement**\n",
        "---\n",
        "Prompt the user to enter the lengths of each side of a triangle and then calculate and print the perimeter of the triangle (the sum of all of the side lengths).\n",
        "\n",
        "Here's a sample run of the program (user input is in bold italics):\n",
        "\n",
        "What is the length of side 1? 3\n",
        "\n",
        "What is the length of side 2? 4\n",
        "\n",
        "What is the length of side 3? 5.5\n",
        "\n",
        "The perimeter of the triangle is 12.5"
      ],
      "metadata": {
        "id": "8PpLGJwKRAmZ"
      }
    },
    {
      "cell_type": "code",
      "source": [
        "def main ():\n",
        "  #taking user input\n",
        "   user_input_1 : float =  float(input('WHAT IS THE LENGTH OF SIDE 1? '))\n",
        "   user_input_2 : float =  float(input('WHAT IS THE LENGTH OF SIDE 2? '))\n",
        "   user_input_3 : float =  float(input('WHAT IS THE LENGTH OF SIDE 3? '))\n",
        "   # calculating the parimeter\n",
        "   parimeter :float = user_input_1 + user_input_2 + user_input_3\n",
        "   print(f\"THE PERIMETER OF THE TRIANGLE IS : {parimeter}\")\n",
        "if (__name__ == \"__main__\"):\n",
        "  main()"
      ],
      "metadata": {
        "colab": {
          "base_uri": "https://localhost:8080/"
        },
        "id": "q0atcY9sX4GF",
        "outputId": "5df63a4a-0069-44dd-d058-d94f0d5ba470"
      },
      "execution_count": null,
      "outputs": [
        {
          "output_type": "stream",
          "name": "stdout",
          "text": [
            "WHAT IS THE LENGTH OF SIDE 1 : 16.9\n",
            "WHAT IS THE LENGTH OF SIDE 3 : 20.5\n",
            "WHAT IS THE LENGTH OF SIDE 3 : 11.6\n",
            "THE PERIMETER OF THE TRIANGLE IS : 49.0\n"
          ]
        }
      ]
    },
    {
      "cell_type": "markdown",
      "source": [
        "## **06. Squared Numbers**\n",
        "### **Problem Statement**\n",
        "---\n",
        "Ask the user for a number and print its square (the product of the number times itself).\n",
        "\n",
        "Here's a sample run of the program (user input is in bold italics):\n",
        "\n",
        "Type a number to see its square: 4\n",
        "\n",
        "4.0 squared is 16.0"
      ],
      "metadata": {
        "id": "VQXStym9DSy7"
      }
    },
    {
      "cell_type": "code",
      "source": [
        "def main():\n",
        "  # taking input as a number\n",
        "  user_input : float = float(input(f\"ENTER A NUMBER: \"))\n",
        "  #printing the square of that number\n",
        "  print(f\"{user_input} squared is {float(user_input**2)}\")\n",
        "if (__name__ == \"__main__\"):\n",
        "  main()"
      ],
      "metadata": {
        "colab": {
          "base_uri": "https://localhost:8080/"
        },
        "id": "y9vi6khlDrRD",
        "outputId": "3a06bfff-820f-443a-f1b6-ac1a7687b9b8"
      },
      "execution_count": null,
      "outputs": [
        {
          "output_type": "stream",
          "name": "stdout",
          "text": [
            "ENTER A NUMBER: 16.2\n",
            "16.2 squared is 262.44\n"
          ]
        }
      ]
    }
  ]
}