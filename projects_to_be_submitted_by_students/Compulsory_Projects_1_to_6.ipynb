{
  "nbformat": 4,
  "nbformat_minor": 0,
  "metadata": {
    "colab": {
      "provenance": [],
      "authorship_tag": "ABX9TyMaCIds9M/Gt3p/A9LBmD/8",
      "include_colab_link": true
    },
    "kernelspec": {
      "name": "python3",
      "display_name": "Python 3"
    },
    "language_info": {
      "name": "python"
    }
  },
  "cells": [
    {
      "cell_type": "markdown",
      "metadata": {
        "id": "view-in-github",
        "colab_type": "text"
      },
      "source": [
        "<a href=\"https://colab.research.google.com/github/S-M-Usman/GIAIC-Q3-P4-assignments/blob/main/Compulsory_Projects_1_to_6.ipynb\" target=\"_parent\"><img src=\"https://colab.research.google.com/assets/colab-badge.svg\" alt=\"Open In Colab\"/></a>"
      ]
    },
    {
      "cell_type": "markdown",
      "source": [
        "# **COMPULSORY PROJECTS**\n",
        "## **Project 01. Mad Libs Project**\n",
        "### **Key Learnings:**\n",
        "---\n",
        "you will learn how to get input from the user, work with f-strings, and see your results printed to the console.\n",
        "\n",
        "This is a great starter project to get comfortable doing string concatenation in Python."
      ],
      "metadata": {
        "id": "zScr-eUFFbxl"
      }
    },
    {
      "cell_type": "code",
      "execution_count": null,
      "metadata": {
        "colab": {
          "base_uri": "https://localhost:8080/"
        },
        "id": "0C7uHG-NBshZ",
        "outputId": "4759ef2b-6562-4cc6-da27-a709ea3befb6"
      },
      "outputs": [
        {
          "output_type": "stream",
          "name": "stdout",
          "text": [
            "Welcome to Mad Libs! Let's create a fun story together.\n",
            "Enter a name: Usman\n",
            "Enter a place: Jakarta\n",
            "Enter a famous person: Tony Stark\n",
            "Enter an object: cricket bat\n",
            "Enter an animal: Wolf\n",
            "Enter a color: Violet\n",
            "Enter a creature (real or imaginary): Godzilla\n",
            "Enter a sound effect: Woah\n",
            "Enter a verb (past tense): dangered\n",
            "Enter a food item: pasta\n",
            "Enter a type of structure: building\n",
            "Enter a ridiculous object: cheese bar\n",
            "Enter a funny title: Godzilla and Cheese\n",
            "\n",
            "Here is your Mad Libs story!\n",
            "\n",
            "\n",
            "    One day, an explorer named Usman decided to embark on a journey to the Jakarta in search of the legendary Tony Stark. \n",
            "    Armed with a cricket bat and a map drawn by a Wolf, they ventured deep into the jungle. \n",
            "    Suddenly, a Violet Godzilla leaped out, making a loud Woah!\n",
            "    \n",
            "    \"Oh no!\" Usman shouted. \"I must use my cricket bat to escape!\"\n",
            "    \n",
            "    With a swift motion, they dangered toward the creature. But instead of attacking, \n",
            "    the Godzilla offered them a pasta in peace.\n",
            "    \n",
            "    Realizing they had stumbled upon a secret, Usman followed the Godzilla to a hidden building. \n",
            "    Inside, they discovered a glowing cheese bar. As they reached out to grab it, a booming voice echoed:\n",
            "    \n",
            "    \"Only the Godzilla and Cheese may claim this treasure!\"\n",
            "    \n",
            "    And from that day on, Usman became known as the Godzilla and Cheese!\n",
            "    \n"
          ]
        }
      ],
      "source": [
        "def mad_libs():\n",
        "    print(\"Welcome to Mad Libs! Let's create a fun story together.\")\n",
        "\n",
        "    # Collect user inputs\n",
        "    name = input(\"Enter a name: \")\n",
        "    print(\"Hello, \" + name + \"!\")\n",
        "    place = input(\"Enter a place: \")\n",
        "    famous_person = input(\"Enter a famous person: \")\n",
        "    object1 = input(\"Enter an object: \")\n",
        "    animal1 = input(\"Enter an animal: \")\n",
        "    color = input(\"Enter a color: \")\n",
        "    creature1 = input(\"Enter a creature (real or imaginary): \")\n",
        "    sound_effect = input(\"Enter a sound effect: \")\n",
        "    verb1 = input(\"Enter a verb (past tense): \")\n",
        "    food_item = input(\"Enter a food item: \")\n",
        "    structure = input(\"Enter a type of structure: \")\n",
        "    ridiculous_object = input(\"Enter a ridiculous object: \")\n",
        "    funny_title = input(\"Enter a funny title: \")\n",
        "\n",
        "    # Construct the Mad Libs story\n",
        "    story = f\"\"\"\n",
        "    One day, an explorer named {name} decided to embark on a journey to the {place} in search of the legendary {famous_person}.\n",
        "    Armed with a {object1} and a map drawn by a {animal1}, they ventured deep into the jungle.\n",
        "    Suddenly, a {color} {creature1} leaped out, making a loud {sound_effect}!\n",
        "\n",
        "    \\\"Oh no!\\\" {name} shouted. \\\"I must use my {object1} to escape!\\\"\n",
        "\n",
        "    With a swift motion, they {verb1} toward the creature. But instead of attacking,\n",
        "    the {creature1} offered them a {food_item} in peace.\n",
        "\n",
        "    Realizing they had stumbled upon a secret, {name} followed the {creature1} to a hidden {structure}.\n",
        "    Inside, they discovered a glowing {ridiculous_object}. As they reached out to grab it, a booming voice echoed:\n",
        "\n",
        "    \\\"Only the {funny_title} may claim this treasure!\\\"\n",
        "\n",
        "    And from that day on, {name} became known as the {funny_title}!\n",
        "    \"\"\"\n",
        "\n",
        "    # Print the final story\n",
        "    print(\"\\nHere is your Mad Libs story!\\n\")\n",
        "    print(story)\n",
        "\n",
        "# Run the Mad Libs function\n",
        "mad_libs()\n"
      ]
    },
    {
      "cell_type": "markdown",
      "source": [
        "## **Project 2: Guess the Number Game Python Project (computer)**\n",
        "\n",
        "### **Key Learnings :**\n",
        "---\n",
        " you will learn how to work with Python's random module, build functions, work with while loops and conditionals, and get user input."
      ],
      "metadata": {
        "id": "9dsJCOMPGFAM"
      }
    },
    {
      "cell_type": "code",
      "source": [
        "import random\n",
        "\n",
        "def main():\n",
        "    guess_number(10)\n",
        "\n",
        "def guess_number(x: int):\n",
        "    random_number = random.randint(1, x)\n",
        "    guess = 0  # Initialize guess with a default value\n",
        "\n",
        "    while guess != random_number:\n",
        "        guess = int(input(f\"Guess a number between 1 and {x}: \"))\n",
        "\n",
        "        if guess < random_number:\n",
        "            print(f\"Too low! Try again.\")\n",
        "        elif guess > random_number:\n",
        "            print(f\"Too high! Try again.\")\n",
        "\n",
        "    print(f\"Congratulations! You guessed the number {random_number} correctly!\")\n",
        "\n",
        "if __name__ == \"__main__\":\n",
        "    main()\n"
      ],
      "metadata": {
        "colab": {
          "base_uri": "https://localhost:8080/"
        },
        "id": "ibXAdpHCwtOU",
        "outputId": "bff30d6b-116a-4c38-87a6-5af324ac8c7a"
      },
      "execution_count": null,
      "outputs": [
        {
          "output_type": "stream",
          "name": "stdout",
          "text": [
            "Guess a number between 1 and 10: 3\n",
            "Too low! Try again.\n",
            "Guess a number between 1 and 10: 5\n",
            "Too low! Try again.\n",
            "Guess a number between 1 and 10: 8\n",
            "Too low! Try again.\n",
            "Guess a number between 1 and 10: 10\n",
            "Congratulations! You guessed the number 10 correctly!\n"
          ]
        }
      ]
    },
    {
      "cell_type": "markdown",
      "source": [
        "## **Project 3: Guess the Number Game Python Project (user)**\n",
        "### **Key Learnings**\n",
        "---\n",
        " you will build a guessing game where the computer has to guess the correct number. You will work with Python's random module, build functions, work with while loops and conditionals, and get user input."
      ],
      "metadata": {
        "id": "na_mJW6T3S43"
      }
    },
    {
      "cell_type": "code",
      "source": [
        "import random\n",
        "\n",
        "def main():\n",
        "    computer_guess(10)\n",
        "\n",
        "def computer_guess(x: int):\n",
        "    low, high = 1, x\n",
        "    user_feedback = \"\"\n",
        "\n",
        "    while user_feedback != \"c\":\n",
        "        guess = random.randint(low, high) if high != low else low  # Handles the single remaining number case\n",
        "        user_feedback = input(f\"Is my guess {guess} too high (H), too low (L), or correct (C)? \").strip().lower()\n",
        "\n",
        "        if user_feedback == \"h\":\n",
        "            high = guess - 1\n",
        "        elif user_feedback == \"l\":\n",
        "            low = guess + 1\n",
        "\n",
        "    print(f\"Yay! The computer guessed your number, {guess}, correctly!\")\n",
        "\n",
        "if __name__ == \"__main__\":\n",
        "    main()\n"
      ],
      "metadata": {
        "id": "i3dm363y4PoG",
        "colab": {
          "base_uri": "https://localhost:8080/"
        },
        "outputId": "c130873f-19d5-4a7f-9cab-8027884cb4b2"
      },
      "execution_count": null,
      "outputs": [
        {
          "output_type": "stream",
          "name": "stdout",
          "text": [
            "Is my guess 6 too high (H), too low (L), or correct (C)? l\n",
            "Is my guess 10 too high (H), too low (L), or correct (C)? h\n",
            "Is my guess 9 too high (H), too low (L), or correct (C)? c\n",
            "Yay! The computer guessed your number, 9, correctly!\n"
          ]
        }
      ]
    },
    {
      "cell_type": "markdown",
      "source": [
        "# **Project 4: Rock, paper, scissors Python Project**\n",
        "## **Key Learning**\n",
        "---\n",
        "you will learn how to work with dictionaries, lists, and nested if statements. You will also learn how to work with the string and random Python modules."
      ],
      "metadata": {
        "id": "sEZjReU7Wrwn"
      }
    },
    {
      "cell_type": "code",
      "source": [
        "import random\n",
        "\n",
        "def is_win(player, opponent):\n",
        "    if (player == 'r' and opponent == 's') or \\\n",
        "       (player == 's' and opponent == 'p') or \\\n",
        "       (player == 'p' and opponent == 'r'):\n",
        "        return True\n",
        "    return False\n",
        "\n",
        "def play_round():\n",
        "    # Get valid user input\n",
        "    while True:\n",
        "        user_choice = input(\"'r' for rock, 'p' for paper, 's' for scissors: \").lower()\n",
        "        if user_choice in ['r', 'p', 's']:\n",
        "            break\n",
        "        print(\"Invalid choice. Please try again.\")\n",
        "\n",
        "    # Generate computer choice\n",
        "    computer_choice = random.choice(['r', 'p', 's'])\n",
        "\n",
        "    # Determine winner\n",
        "    if user_choice == computer_choice:\n",
        "        result = 'tie'\n",
        "    elif is_win(user_choice, computer_choice):\n",
        "        result = 'win'\n",
        "    else:\n",
        "        result = 'lose'\n",
        "\n",
        "    return user_choice, computer_choice, result\n",
        "\n",
        "def main():\n",
        "    user_score = 0\n",
        "    computer_score = 0\n",
        "\n",
        "    while True:\n",
        "        print(\"\\n\" + \"=\"*30)\n",
        "        user_choice, computer_choice, result = play_round()\n",
        "\n",
        "        print(f\"\\nYou chose: {user_choice.upper()}\")\n",
        "        print(f\"Computer chose: {computer_choice.upper()}\")\n",
        "\n",
        "        # Update scores and show results\n",
        "        if result == 'win':\n",
        "            user_score += 1\n",
        "            print(\"You win this round!\")\n",
        "        elif result == 'lose':\n",
        "            computer_score += 1\n",
        "            print(\"Computer wins this round!\")\n",
        "        else:\n",
        "            print(\"It's a tie!\")\n",
        "\n",
        "        # Display scores\n",
        "        print(f\"\\nCurrent Score:\")\n",
        "        print(f\"You: {user_score}  |  Computer: {computer_score}\")\n",
        "\n",
        "        # Ask to continue\n",
        "        while True:\n",
        "            choice = input(\"\\nPlay again? (y/n): \").lower()\n",
        "            if choice in ['y', 'n']:\n",
        "                break\n",
        "            print(\"Invalid input. Please enter 'y' or 'n'.\")\n",
        "\n",
        "        if choice == 'n':\n",
        "            print(\"\\nFinal Score:\")\n",
        "            print(f\"You: {user_score}  |  Computer: {computer_score}\")\n",
        "            print(\"Thanks for playing!\")\n",
        "            break\n",
        "\n",
        "if __name__ == \"__main__\":\n",
        "    main()"
      ],
      "metadata": {
        "id": "x5a5Fn--XdXq",
        "colab": {
          "base_uri": "https://localhost:8080/"
        },
        "outputId": "50748a12-03b9-4e88-bb8d-29b8b1f8a5c6"
      },
      "execution_count": 2,
      "outputs": [
        {
          "output_type": "stream",
          "name": "stdout",
          "text": [
            "\n",
            "==============================\n",
            "'r' for rock, 'p' for paper, 's' for scissors: r\n",
            "\n",
            "You chose: R\n",
            "Computer chose: R\n",
            "It's a tie!\n",
            "\n",
            "Current Score:\n",
            "You: 0  |  Computer: 0\n",
            "\n",
            "Play again? (y/n): y\n",
            "\n",
            "==============================\n",
            "'r' for rock, 'p' for paper, 's' for scissors: s\n",
            "\n",
            "You chose: S\n",
            "Computer chose: S\n",
            "It's a tie!\n",
            "\n",
            "Current Score:\n",
            "You: 0  |  Computer: 0\n",
            "\n",
            "Play again? (y/n): y\n",
            "\n",
            "==============================\n",
            "'r' for rock, 'p' for paper, 's' for scissors: r\n",
            "\n",
            "You chose: R\n",
            "Computer chose: P\n",
            "Computer wins this round!\n",
            "\n",
            "Current Score:\n",
            "You: 0  |  Computer: 1\n",
            "\n",
            "Play again? (y/n): n\n",
            "\n",
            "Final Score:\n",
            "You: 0  |  Computer: 1\n",
            "Thanks for playing!\n"
          ]
        }
      ]
    },
    {
      "cell_type": "markdown",
      "source": [
        "## **Project 5: Hangman Python Project**\n",
        "### **Key Learnings**\n",
        "---\n",
        "you will learn how to work with dictionaries, lists, and nested if statements. You will also learn how to work with the string and random Python modules."
      ],
      "metadata": {
        "id": "-f8fPmQyGckW"
      }
    },
    {
      "cell_type": "code",
      "source": [
        "words = [\"aback\",\"abaft\",\"abandoned\",\"abashed\",\"aberrant\",\"abhorrent\",\"abiding\",\"abject\",\"ablaze\",\"able\",\"abnormal\",\"aboard\",\"aboriginal\",\"abortive\",\"abounding\",\"abrasive\",\"abrupt\",\"absent\",\"absorbed\",\"absorbing\",\"abstracted\",\"absurd\",\"abundant\",\"abusive\",\"acceptable\",\"accessible\",\"accidental\",\"accurate\",\"acid\",\"acidic\",\"acoustic\",\"acrid\",\"actually\",\"ad hoc\",\"adamant\",\"adaptable\",\"addicted\",\"adhesive\",\"adjoining\",\"adorable\",\"adventurous\",\"afraid\",\"aggressive\",\"agonizing\",\"agreeable\",\"ahead\",\"ajar\",\"alcoholic\",\"alert\",\"alike\",\"alive\",\"alleged\",\"alluring\",\"aloof\",\"amazing\",\"ambiguous\",\"ambitious\",\"amuck\",\"amused\",\"amusing\",\"ancient\",\"angry\",\"animated\",\"annoyed\",\"annoying\",\"anxious\",\"apathetic\",\"aquatic\",\"aromatic\",\"arrogant\",\"ashamed\",\"aspiring\",\"assorted\",\"astonishing\",\"attractive\",\"auspicious\",\"automatic\",\"available\",\"average\",\"awake\",\"aware\",\"awesome\",\"awful\",\"axiomatic\",\"bad\",\"barbarous\",\"bashful\",\"bawdy\",\"beautiful\",\"befitting\",\"belligerent\",\"beneficial\",\"bent\",\"berserk\",\"best\",\"better\",\"bewildered\",\"big\",\"billowy\",\"bite-sized\",\"bitter\",\"bizarre\",\"black\",\"black-and-white\",\"bloody\",\"blue\",\"blue-eyed\",\"blushing\",\"boiling\",\"boorish\",\"bored\",\"boring\",\"bouncy\",\"boundless\",\"brainy\",\"brash\",\"brave\",\"brawny\",\"breakable\",\"breezy\",\"brief\",\"bright\",\"bright\",\"broad\",\"broken\",\"brown\",\"bumpy\",\"burly\",\"bustling\",\"busy\",\"cagey\",\"calculating\",\"callous\",\"calm\",\"capable\",\"capricious\",\"careful\",\"careless\",\"caring\",\"cautious\",\"ceaseless\",\"certain\",\"changeable\",\"charming\",\"cheap\",\"cheerful\",\"chemical\",\"chief\",\"childlike\",\"chilly\",\"chivalrous\",\"chubby\",\"chunky\",\"clammy\",\"classy\",\"clean\",\"clear\",\"clever\",\"cloistered\",\"cloudy\",\"closed\",\"clumsy\",\"cluttered\",\"coherent\",\"cold\",\"colorful\",\"colossal\",\"combative\",\"comfortable\",\"common\",\"complete\",\"complex\",\"concerned\",\"condemned\",\"confused\",\"conscious\",\"cooing\",\"cool\",\"cooperative\",\"coordinated\",\"courageous\",\"cowardly\",\"crabby\",\"craven\",\"crazy\",\"creepy\",\"crooked\",\"crowded\",\"cruel\",\"cuddly\",\"cultured\",\"cumbersome\",\"curious\",\"curly\",\"curved\",\"curvy\",\"cut\",\"cute\",\"cute\",\"cynical\",\"daffy\",\"daily\",\"damaged\",\"damaging\",\"damp\",\"dangerous\",\"dapper\",\"dark\",\"dashing\",\"dazzling\",\"dead\",\"deadpan\",\"deafening\",\"dear\",\"debonair\",\"decisive\",\"decorous\",\"deep\",\"deeply\",\"defeated\",\"defective\",\"defiant\",\"delicate\",\"delicious\",\"delightful\",\"demonic\",\"delirious\",\"dependent\",\"depressed\",\"deranged\",\"descriptive\",\"deserted\",\"detailed\",\"determined\",\"devilish\",\"didactic\",\"different\",\"difficult\",\"diligent\",\"direful\",\"dirty\",\"disagreeable\",\"disastrous\",\"discreet\",\"disgusted\",\"disgusting\",\"disillusioned\",\"dispensable\",\"distinct\",\"disturbed\",\"divergent\",\"dizzy\",\"domineering\",\"doubtful\",\"drab\",\"draconian\",\"dramatic\",\"dreary\",\"drunk\",\"dry\",\"dull\",\"dusty\",\"dusty\",\"dynamic\",\"dysfunctional\",\"eager\",\"early\",\"earsplitting\",\"earthy\",\"easy\",\"eatable\",\"economic\",\"educated\",\"efficacious\",\"efficient\",\"eight\",\"elastic\",\"elated\",\"elderly\",\"electric\",\"elegant\",\"elfin\",\"elite\",\"embarrassed\",\"eminent\",\"empty\",\"enchanted\",\"enchanting\",\"encouraging\",\"endurable\",\"energetic\",\"enormous\",\"entertaining\",\"enthusiastic\",\"envious\",\"equable\",\"equal\",\"erect\",\"erratic\",\"ethereal\",\"evanescent\",\"evasive\",\"even\",\"excellent\",\"excited\",\"exciting\",\"exclusive\",\"exotic\",\"expensive\",\"extra-large\",\"extra-small\",\"exuberant\",\"exultant\",\"fabulous\",\"faded\",\"faint\",\"fair\",\"faithful\",\"fallacious\",\"false\",\"familiar\",\"famous\",\"fanatical\",\"fancy\",\"fantastic\",\"far\",\"far-flung\",\"fascinated\",\"fast\",\"fat\",\"faulty\",\"fearful\",\"fearless\",\"feeble\",\"feigned\",\"female\",\"fertile\",\"festive\",\"few\",\"fierce\",\"filthy\",\"fine\",\"finicky\",\"first\",\"five\",\"fixed\",\"flagrant\",\"flaky\",\"flashy\",\"flat\",\"flawless\",\"flimsy\",\"flippant\",\"flowery\",\"fluffy\",\"fluttering\",\"foamy\",\"foolish\",\"foregoing\",\"forgetful\",\"fortunate\",\"four\",\"frail\",\"fragile\",\"frantic\",\"free\",\"freezing\",\"frequent\",\"fresh\",\"fretful\",\"friendly\",\"frightened\",\"frightening\",\"full\",\"fumbling\",\"functional\",\"funny\",\"furry\",\"furtive\",\"future\",\"futuristic\",\"fuzzy\",\"gabby\",\"gainful\",\"gamy\",\"gaping\",\"garrulous\",\"gaudy\",\"general\",\"gentle\",\"giant\",\"giddy\",\"gifted\",\"gigantic\",\"glamorous\",\"gleaming\",\"glib\",\"glistening\",\"glorious\",\"glossy\",\"godly\",\"good\",\"goofy\",\"gorgeous\",\"graceful\",\"grandiose\",\"grateful\",\"gratis\",\"gray\",\"greasy\",\"great\",\"greedy\",\"green\",\"grey\",\"grieving\",\"groovy\",\"grotesque\",\"grouchy\",\"grubby\",\"gruesome\",\"grumpy\",\"guarded\",\"guiltless\",\"gullible\",\"gusty\",\"guttural\",\"habitual\",\"half\",\"hallowed\",\"halting\",\"handsome\",\"handsomely\",\"handy\",\"hanging\",\"hapless\",\"happy\",\"hard\",\"hard-to-find\",\"harmonious\",\"harsh\",\"hateful\",\"heady\",\"healthy\",\"heartbreaking\",\"heavenly\",\"heavy\",\"hellish\",\"helpful\",\"helpless\",\"hesitant\",\"hideous\",\"high\",\"highfalutin\",\"high-pitched\",\"hilarious\",\"hissing\",\"historical\",\"holistic\",\"hollow\",\"homeless\",\"homely\",\"honorable\",\"horrible\",\"hospitable\",\"hot\",\"huge\",\"hulking\",\"humdrum\",\"humorous\",\"hungry\",\"hurried\",\"hurt\",\"hushed\",\"husky\",\"hypnotic\",\"hysterical\",\"icky\",\"icy\",\"idiotic\",\"ignorant\",\"ill\",\"illegal\",\"ill-fated\",\"ill-informed\",\"illustrious\",\"imaginary\",\"immense\",\"imminent\",\"impartial\",\"imperfect\",\"impolite\",\"important\",\"imported\",\"impossible\",\"incandescent\",\"incompetent\",\"inconclusive\",\"industrious\",\"incredible\",\"inexpensive\",\"infamous\",\"innate\",\"innocent\",\"inquisitive\",\"insidious\",\"instinctive\",\"intelligent\",\"interesting\",\"internal\",\"invincible\",\"irate\",\"irritating\",\"itchy\",\"jaded\",\"jagged\",\"jazzy\",\"jealous\",\"jittery\",\"jobless\",\"jolly\",\"joyous\",\"judicious\",\"juicy\",\"jumbled\",\"jumpy\",\"juvenile\",\"kaput\",\"keen\",\"kind\",\"kindhearted\",\"kindly\",\"knotty\",\"knowing\",\"knowledgeable\",\"known\",\"labored\",\"lackadaisical\",\"lacking\",\"lame\",\"lamentable\",\"languid\",\"large\",\"last\",\"late\",\"laughable\",\"lavish\",\"lazy\",\"lean\",\"learned\",\"left\",\"legal\",\"lethal\",\"level\",\"lewd\",\"light\",\"like\",\"likeable\",\"limping\",\"literate\",\"little\",\"lively\",\"lively\",\"living\",\"lonely\",\"long\",\"longing\",\"long-term\",\"loose\",\"lopsided\",\"loud\",\"loutish\",\"lovely\",\"loving\",\"low\",\"lowly\",\"lucky\",\"ludicrous\",\"lumpy\",\"lush\",\"luxuriant\",\"lying\",\"lyrical\",\"macabre\",\"macho\",\"maddening\",\"madly\",\"magenta\",\"magical\",\"magnificent\",\"majestic\",\"makeshift\",\"male\",\"malicious\",\"mammoth\",\"maniacal\",\"many\",\"marked\",\"massive\",\"married\",\"marvelous\",\"material\",\"materialistic\",\"mature\",\"mean\",\"measly\",\"meaty\",\"medical\",\"meek\",\"mellow\",\"melodic\",\"melted\",\"merciful\",\"mere\",\"messy\",\"mighty\",\"military\",\"milky\",\"mindless\",\"miniature\",\"minor\",\"miscreant\",\"misty\",\"mixed\",\"moaning\",\"modern\",\"moldy\",\"momentous\",\"motionless\",\"mountainous\",\"muddled\",\"mundane\",\"murky\",\"mushy\",\"mute\",\"mysterious\",\"naive\",\"nappy\",\"narrow\",\"nasty\",\"natural\",\"naughty\",\"nauseating\",\"near\",\"neat\",\"nebulous\",\"necessary\",\"needless\",\"needy\",\"neighborly\",\"nervous\",\"new\",\"next\",\"nice\",\"nifty\",\"nimble\",\"nine\",\"nippy\",\"noiseless\",\"noisy\",\"nonchalant\",\"nondescript\",\"nonstop\",\"normal\",\"nostalgic\",\"nosy\",\"noxious\",\"null\",\"numberless\",\"numerous\",\"nutritious\",\"nutty\",\"oafish\",\"obedient\",\"obeisant\",\"obese\",\"obnoxious\",\"obscene\",\"obsequious\",\"observant\",\"obsolete\",\"obtainable\",\"oceanic\",\"odd\",\"offbeat\",\"old\",\"old-fashioned\",\"omniscient\",\"one\",\"onerous\",\"open\",\"opposite\",\"optimal\",\"orange\",\"ordinary\",\"organic\",\"ossified\",\"outgoing\",\"outrageous\",\"outstanding\",\"oval\",\"overconfident\",\"overjoyed\",\"overrated\",\"overt\",\"overwrought\",\"painful\",\"painstaking\",\"pale\",\"paltry\",\"panicky\",\"panoramic\",\"parallel\",\"parched\",\"parsimonious\",\"past\",\"pastoral\",\"pathetic\",\"peaceful\",\"penitent\",\"perfect\",\"periodic\",\"permissible\",\"perpetual\",\"petite\",\"petite\",\"phobic\",\"physical\",\"picayune\",\"pink\",\"piquant\",\"placid\",\"plain\",\"plant\",\"plastic\",\"plausible\",\"pleasant\",\"plucky\",\"pointless\",\"poised\",\"polite\",\"political\",\"poor\",\"possessive\",\"possible\",\"powerful\",\"precious\",\"premium\",\"present\",\"pretty\",\"previous\",\"pricey\",\"prickly\",\"private\",\"probable\",\"productive\",\"profuse\",\"protective\",\"proud\",\"psychedelic\",\"psychotic\",\"public\",\"puffy\",\"pumped\",\"puny\",\"purple\",\"purring\",\"pushy\",\"puzzled\",\"puzzling\",\"quack\",\"quaint\",\"quarrelsome\",\"questionable\",\"quick\",\"quickest\",\"quiet\",\"quirky\",\"quixotic\",\"quizzical\",\"rabid\",\"racial\",\"ragged\",\"rainy\",\"rambunctious\",\"rampant\",\"rapid\",\"rare\",\"raspy\",\"ratty\",\"ready\",\"real\",\"rebel\",\"receptive\",\"recondite\",\"red\",\"redundant\",\"reflective\",\"regular\",\"relieved\",\"remarkable\",\"reminiscent\",\"repulsive\",\"resolute\",\"resonant\",\"responsible\",\"rhetorical\",\"rich\",\"right\",\"righteous\",\"rightful\",\"rigid\",\"ripe\",\"ritzy\",\"roasted\",\"robust\",\"romantic\",\"roomy\",\"rotten\",\"rough\",\"round\",\"royal\",\"ruddy\",\"rude\",\"rural\",\"rustic\",\"ruthless\",\"sable\",\"sad\",\"safe\",\"salty\",\"same\",\"sassy\",\"satisfying\",\"savory\",\"scandalous\",\"scarce\",\"scared\",\"scary\",\"scattered\",\"scientific\",\"scintillating\",\"scrawny\",\"screeching\",\"second\",\"second-hand\",\"secret\",\"secretive\",\"sedate\",\"seemly\",\"selective\",\"selfish\",\"separate\",\"serious\",\"shaggy\",\"shaky\",\"shallow\",\"sharp\",\"shiny\",\"shivering\",\"shocking\",\"short\",\"shrill\",\"shut\",\"shy\",\"sick\",\"silent\",\"silent\",\"silky\",\"silly\",\"simple\",\"simplistic\",\"sincere\",\"six\",\"skillful\",\"skinny\",\"sleepy\",\"slim\",\"slimy\",\"slippery\",\"sloppy\",\"slow\",\"small\",\"smart\",\"smelly\",\"smiling\",\"smoggy\",\"smooth\",\"sneaky\",\"snobbish\",\"snotty\",\"soft\",\"soggy\",\"solid\",\"somber\",\"sophisticated\",\"sordid\",\"sore\",\"sore\",\"sour\",\"sparkling\",\"special\",\"spectacular\",\"spicy\",\"spiffy\",\"spiky\",\"spiritual\",\"spiteful\",\"splendid\",\"spooky\",\"spotless\",\"spotted\",\"spotty\",\"spurious\",\"squalid\",\"square\",\"squealing\",\"squeamish\",\"staking\",\"stale\",\"standing\",\"statuesque\",\"steadfast\",\"steady\",\"steep\",\"stereotyped\",\"sticky\",\"stiff\",\"stimulating\",\"stingy\",\"stormy\",\"straight\",\"strange\",\"striped\",\"strong\",\"stupendous\",\"stupid\",\"sturdy\",\"subdued\",\"subsequent\",\"substantial\",\"successful\",\"succinct\",\"sudden\",\"sulky\",\"super\",\"superb\",\"superficial\",\"supreme\",\"swanky\",\"sweet\",\"sweltering\",\"swift\",\"symptomatic\",\"synonymous\",\"taboo\",\"tacit\",\"tacky\",\"talented\",\"tall\",\"tame\",\"tan\",\"tangible\",\"tangy\",\"tart\",\"tasteful\",\"tasteless\",\"tasty\",\"tawdry\",\"tearful\",\"tedious\",\"teeny\",\"teeny-tiny\",\"telling\",\"temporary\",\"ten\",\"tender\",\"tense\",\"tense\",\"tenuous\",\"terrible\",\"terrific\",\"tested\",\"testy\",\"thankful\",\"therapeutic\",\"thick\",\"thin\",\"thinkable\",\"third\",\"thirsty\",\"thirsty\",\"thoughtful\",\"thoughtless\",\"threatening\",\"three\",\"thundering\",\"tidy\",\"tight\",\"tightfisted\",\"tiny\",\"tired\",\"tiresome\",\"toothsome\",\"torpid\",\"tough\",\"towering\",\"tranquil\",\"trashy\",\"tremendous\",\"tricky\",\"trite\",\"troubled\",\"truculent\",\"true\",\"truthful\",\"two\",\"typical\",\"ubiquitous\",\"ugliest\",\"ugly\",\"ultra\",\"unable\",\"unaccountable\",\"unadvised\",\"unarmed\",\"unbecoming\",\"unbiased\",\"uncovered\",\"understood\",\"undesirable\",\"unequal\",\"unequaled\",\"uneven\",\"unhealthy\",\"uninterested\",\"unique\",\"unkempt\",\"unknown\",\"unnatural\",\"unruly\",\"unsightly\",\"unsuitable\",\"untidy\",\"unused\",\"unusual\",\"unwieldy\",\"unwritten\",\"upbeat\",\"uppity\",\"upset\",\"uptight\",\"used\",\"useful\",\"useless\",\"utopian\",\"utter\",\"uttermost\",\"vacuous\",\"vagabond\",\"vague\",\"valuable\",\"various\",\"vast\",\"vengeful\",\"venomous\",\"verdant\",\"versed\",\"victorious\",\"vigorous\",\"violent\",\"violet\",\"vivacious\",\"voiceless\",\"volatile\",\"voracious\",\"vulgar\",\"wacky\",\"waggish\",\"waiting\",\"wakeful\",\"wandering\",\"wanting\",\"warlike\",\"warm\",\"wary\",\"wasteful\",\"watery\",\"weak\",\"wealthy\",\"weary\",\"well-groomed\",\"well-made\",\"well-off\",\"well-to-do\",\"wet\",\"whimsical\",\"whispering\",\"white\",\"whole\",\"wholesale\",\"wicked\",\"wide\",\"wide-eyed\",\"wiggly\",\"wild\",\"willing\",\"windy\",\"wiry\",\"wise\",\"wistful\",\"witty\",\"woebegone\",\"womanly\",\"wonderful\",\"wooden\",\"woozy\",\"workable\",\"worried\",\"worthless\",\"wrathful\",\"wretched\",\"wrong\",\"wry\",\"yellow\",\"yielding\",\"young\",\"youthful\",\"yummy\",\"zany\",\"zealous\",\"zesty\",\"zippy\",\"zonked\",\"account\",\"achiever\",\"acoustics\",\"act\",\"action\",\"activity\",\"actor\",\"addition\",\"adjustment\",\"advertisement\",\"advice\",\"aftermath\",\"afternoon\",\"afterthought\",\"agreement\",\"air\",\"airplane\",\"airport\",\"alarm\",\"amount\",\"amusement\",\"anger\",\"angle\",\"animal\",\"ants\",\"apparatus\",\"apparel\",\"appliance\",\"approval\",\"arch\",\"argument\",\"arithmetic\",\"arm\",\"army\",\"art\",\"attack\",\"attraction\",\"aunt\",\"authority\",\"babies\",\"baby\",\"back\",\"badge\",\"bag\",\"bait\",\"balance\",\"ball\",\"base\",\"baseball\",\"basin\",\"basket\",\"basketball\",\"bat\",\"bath\",\"battle\",\"bead\",\"bear\",\"bed\",\"bedroom\",\"beds\",\"bee\",\"beef\",\"beginner\",\"behavior\",\"belief\",\"believe\",\"bell\",\"bells\",\"berry\",\"bike\",\"bikes\",\"bird\",\"birds\",\"birth\",\"birthday\",\"bit\",\"bite\",\"blade\",\"blood\",\"blow\",\"board\",\"boat\",\"bomb\",\"bone\",\"book\",\"books\",\"boot\",\"border\",\"bottle\",\"boundary\",\"box\",\"boy\",\"brake\",\"branch\",\"brass\",\"breath\",\"brick\",\"bridge\",\"brother\",\"bubble\",\"bucket\",\"building\",\"bulb\",\"burst\",\"bushes\",\"business\",\"butter\",\"button\",\"cabbage\",\"cable\",\"cactus\",\"cake\",\"cakes\",\"calculator\",\"calendar\",\"camera\",\"camp\",\"can\",\"cannon\",\"canvas\",\"cap\",\"caption\",\"car\",\"card\",\"care\",\"carpenter\",\"carriage\",\"cars\",\"cart\",\"cast\",\"cat\",\"cats\",\"cattle\",\"cause\",\"cave\",\"celery\",\"cellar\",\"cemetery\",\"cent\",\"chalk\",\"chance\",\"change\",\"channel\",\"cheese\",\"cherries\",\"cherry\",\"chess\",\"chicken\",\"chickens\",\"children\",\"chin\",\"church\",\"circle\",\"clam\",\"class\",\"cloth\",\"clover\",\"club\",\"coach\",\"coal\",\"coast\",\"coat\",\"cobweb\",\"coil\",\"collar\",\"color\",\"committee\",\"company\",\"comparison\",\"competition\",\"condition\",\"connection\",\"control\",\"cook\",\"copper\",\"corn\",\"cough\",\"country\",\"cover\",\"cow\",\"cows\",\"crack\",\"cracker\",\"crate\",\"crayon\",\"cream\",\"creator\",\"creature\",\"credit\",\"crib\",\"crime\",\"crook\",\"crow\",\"crowd\",\"crown\",\"cub\",\"cup\",\"current\",\"curtain\",\"curve\",\"cushion\",\"dad\",\"daughter\",\"day\",\"death\",\"debt\",\"decision\",\"deer\",\"degree\",\"design\",\"desire\",\"desk\",\"destruction\",\"detail\",\"development\",\"digestion\",\"dime\",\"dinner\",\"dinosaurs\",\"direction\",\"dirt\",\"discovery\",\"discussion\",\"distance\",\"distribution\",\"division\",\"dock\",\"doctor\",\"dog\",\"dogs\",\"doll\",\"dolls\",\"donkey\",\"door\",\"downtown\",\"drain\",\"drawer\",\"dress\",\"drink\",\"driving\",\"drop\",\"duck\",\"ducks\",\"dust\",\"ear\",\"earth\",\"earthquake\",\"edge\",\"education\",\"effect\",\"egg\",\"eggnog\",\"eggs\",\"elbow\",\"end\",\"engine\",\"error\",\"event\",\"example\",\"exchange\",\"existence\",\"expansion\",\"experience\",\"expert\",\"eye\",\"eyes\",\"face\",\"fact\",\"fairies\",\"fall\",\"fang\",\"farm\",\"fear\",\"feeling\",\"field\",\"finger\",\"finger\",\"fire\",\"fireman\",\"fish\",\"flag\",\"flame\",\"flavor\",\"flesh\",\"flight\",\"flock\",\"floor\",\"flower\",\"flowers\",\"fly\",\"fog\",\"fold\",\"food\",\"foot\",\"force\",\"fork\",\"form\",\"fowl\",\"frame\",\"friction\",\"friend\",\"friends\",\"frog\",\"frogs\",\"front\",\"fruit\",\"fuel\",\"furniture\",\"gate\",\"geese\",\"ghost\",\"giants\",\"giraffe\",\"girl\",\"girls\",\"glass\",\"glove\",\"gold\",\"government\",\"governor\",\"grade\",\"grain\",\"grandfather\",\"grandmother\",\"grape\",\"grass\",\"grip\",\"ground\",\"group\",\"growth\",\"guide\",\"guitar\",\"gun\",\"hair\",\"haircut\",\"hall\",\"hammer\",\"hand\",\"hands\",\"harbor\",\"harmony\",\"hat\",\"hate\",\"head\",\"health\",\"heat\",\"hill\",\"history\",\"hobbies\",\"hole\",\"holiday\",\"home\",\"honey\",\"hook\",\"hope\",\"horn\",\"horse\",\"horses\",\"hose\",\"hospital\",\"hot\",\"hour\",\"house\",\"houses\",\"humor\",\"hydrant\",\"ice\",\"icicle\",\"idea\",\"impulse\",\"income\",\"increase\",\"industry\",\"ink\",\"insect\",\"instrument\",\"insurance\",\"interest\",\"invention\",\"iron\",\"island\",\"jail\",\"jam\",\"jar\",\"jeans\",\"jelly\",\"jellyfish\",\"jewel\",\"join\",\"judge\",\"juice\",\"jump\",\"kettle\",\"key\",\"kick\",\"kiss\",\"kittens\",\"kitty\",\"knee\",\"knife\",\"knot\",\"knowledge\",\"laborer\",\"lace\",\"ladybug\",\"lake\",\"lamp\",\"land\",\"language\",\"laugh\",\"leather\",\"leg\",\"legs\",\"letter\",\"letters\",\"lettuce\",\"level\",\"library\",\"limit\",\"line\",\"linen\",\"lip\",\"liquid\",\"loaf\",\"lock\",\"locket\",\"look\",\"loss\",\"love\",\"low\",\"lumber\",\"lunch\",\"lunchroom\",\"machine\",\"magic\",\"maid\",\"mailbox\",\"man\",\"marble\",\"mark\",\"market\",\"mask\",\"mass\",\"match\",\"meal\",\"measure\",\"meat\",\"meeting\",\"memory\",\"men\",\"metal\",\"mice\",\"middle\",\"milk\",\"mind\",\"mine\",\"minister\",\"mint\",\"minute\",\"mist\",\"mitten\",\"mom\",\"money\",\"monkey\",\"month\",\"moon\",\"morning\",\"mother\",\"motion\",\"mountain\",\"mouth\",\"move\",\"muscle\",\"name\",\"nation\",\"neck\",\"need\",\"needle\",\"nerve\",\"nest\",\"night\",\"noise\",\"north\",\"nose\",\"note\",\"notebook\",\"number\",\"nut\",\"oatmeal\",\"observation\",\"ocean\",\"offer\",\"office\",\"oil\",\"orange\",\"oranges\",\"order\",\"oven\",\"page\",\"pail\",\"pan\",\"pancake\",\"paper\",\"parcel\",\"part\",\"partner\",\"party\",\"passenger\",\"payment\",\"peace\",\"pear\",\"pen\",\"pencil\",\"person\",\"pest\",\"pet\",\"pets\",\"pickle\",\"picture\",\"pie\",\"pies\",\"pig\",\"pigs\",\"pin\",\"pipe\",\"pizzas\",\"place\",\"plane\",\"planes\",\"plant\",\"plantation\",\"plants\",\"plastic\",\"plate\",\"play\",\"playground\",\"pleasure\",\"plot\",\"plough\",\"pocket\",\"point\",\"poison\",\"pollution\",\"popcorn\",\"porter\",\"position\",\"pot\",\"potato\",\"powder\",\"power\",\"price\",\"produce\",\"profit\",\"property\",\"prose\",\"protest\",\"pull\",\"pump\",\"punishment\",\"purpose\",\"push\",\"quarter\",\"quartz\",\"queen\",\"question\",\"quicksand\",\"quiet\",\"quill\",\"quilt\",\"quince\",\"quiver\",\"rabbit\",\"rabbits\",\"rail\",\"railway\",\"rain\",\"rainstorm\",\"rake\",\"range\",\"rat\",\"rate\",\"ray\",\"reaction\",\"reading\",\"reason\",\"receipt\",\"recess\",\"record\",\"regret\",\"relation\",\"religion\",\"representative\",\"request\",\"respect\",\"rest\",\"reward\",\"rhythm\",\"rice\",\"riddle\",\"rifle\",\"ring\",\"rings\",\"river\",\"road\",\"robin\",\"rock\",\"rod\",\"roll\",\"roof\",\"room\",\"root\",\"rose\",\"route\",\"rub\",\"rule\",\"run\",\"sack\",\"sail\",\"salt\",\"sand\",\"scale\",\"scarecrow\",\"scarf\",\"scene\",\"scent\",\"school\",\"science\",\"scissors\",\"screw\",\"sea\",\"seashore\",\"seat\",\"secretary\",\"seed\",\"selection\",\"self\",\"sense\",\"servant\",\"shade\",\"shake\",\"shame\",\"shape\",\"sheep\",\"sheet\",\"shelf\",\"ship\",\"shirt\",\"shock\",\"shoe\",\"shoes\",\"shop\",\"show\",\"side\",\"sidewalk\",\"sign\",\"silk\",\"silver\",\"sink\",\"sister\",\"sisters\",\"size\",\"skate\",\"skin\",\"skirt\",\"sky\",\"slave\",\"sleep\",\"sleet\",\"slip\",\"slope\",\"smash\",\"smell\",\"smile\",\"smoke\",\"snail\",\"snails\",\"snake\",\"snakes\",\"sneeze\",\"snow\",\"soap\",\"society\",\"sock\",\"soda\",\"sofa\",\"son\",\"song\",\"songs\",\"sort\",\"sound\",\"soup\",\"space\",\"spade\",\"spark\",\"spiders\",\"sponge\",\"spoon\",\"spot\",\"spring\",\"spy\",\"square\",\"squirrel\",\"stage\",\"stamp\",\"star\",\"start\",\"statement\",\"station\",\"steam\",\"steel\",\"stem\",\"step\",\"stew\",\"stick\",\"sticks\",\"stitch\",\"stocking\",\"stomach\",\"stone\",\"stop\",\"store\",\"story\",\"stove\",\"stranger\",\"straw\",\"stream\",\"street\",\"stretch\",\"string\",\"structure\",\"substance\",\"sugar\",\"suggestion\",\"suit\",\"summer\",\"sun\",\"support\",\"surprise\",\"sweater\",\"swim\",\"swing\",\"system\",\"table\",\"tail\",\"talk\",\"tank\",\"taste\",\"tax\",\"teaching\",\"team\",\"teeth\",\"temper\",\"tendency\",\"tent\",\"territory\",\"test\",\"texture\",\"theory\",\"thing\",\"things\",\"thought\",\"thread\",\"thrill\",\"throat\",\"throne\",\"thumb\",\"thunder\",\"ticket\",\"tiger\",\"time\",\"tin\",\"title\",\"toad\",\"toe\",\"toes\",\"tomatoes\",\"tongue\",\"tooth\",\"toothbrush\",\"toothpaste\",\"top\",\"touch\",\"town\",\"toy\",\"toys\",\"trade\",\"trail\",\"train\",\"trains\",\"tramp\",\"transport\",\"tray\",\"treatment\",\"tree\",\"trees\",\"trick\",\"trip\",\"trouble\",\"trousers\",\"truck\",\"trucks\",\"tub\",\"turkey\",\"turn\",\"twig\",\"twist\",\"umbrella\",\"uncle\",\"underwear\",\"unit\",\"use\",\"vacation\",\"value\",\"van\",\"vase\",\"vegetable\",\"veil\",\"vein\",\"verse\",\"vessel\",\"vest\",\"view\",\"visitor\",\"voice\",\"volcano\",\"volleyball\",\"voyage\",\"walk\",\"wall\",\"war\",\"wash\",\"waste\",\"watch\",\"water\",\"wave\",\"waves\",\"wax\",\"way\",\"wealth\",\"weather\",\"week\",\"weight\",\"wheel\",\"whip\",\"whistle\",\"wilderness\",\"wind\",\"window\",\"wine\",\"wing\",\"winter\",\"wire\",\"wish\",\"woman\",\"women\",\"wood\",\"wool\",\"word\",\"work\",\"worm\",\"wound\",\"wren\",\"wrench\",\"wrist\",\"writer\",\"writing\",\"yak\",\"yam\",\"yard\",\"yarn\",\"year\",\"yoke\",\"zebra\",\"zephyr\",\"zinc\",\"zipper\",\"zoo\",\"accept\",\"add\",\"admire\",\"admit\",\"advise\",\"afford\",\"agree\",\"alert\",\"allow\",\"amuse\",\"analyse\",\"announce\",\"annoy\",\"answer\",\"apologise\",\"appear\",\"applaud\",\"appreciate\",\"approve\",\"argue\",\"arrange\",\"arrest\",\"arrive\",\"ask\",\"attach\",\"attack\",\"attempt\",\"attend\",\"attract\",\"avoid\",\"back\",\"bake\",\"balance\",\"ban\",\"bang\",\"bare\",\"bat\",\"bathe\",\"battle\",\"beam\",\"beg\",\"behave\",\"belong\",\"bleach\",\"bless\",\"blind\",\"blink\",\"blot\",\"blush\",\"boast\",\"boil\",\"bolt\",\"bomb\",\"book\",\"bore\",\"borrow\",\"bounce\",\"bow\",\"box\",\"brake\",\"branch\",\"breathe\",\"bruise\",\"brush\",\"bubble\",\"bump\",\"burn\",\"bury\",\"buzz\",\"calculate\",\"call\",\"camp\",\"care\",\"carry\",\"carve\",\"cause\",\"challenge\",\"change\",\"charge\",\"chase\",\"cheat\",\"check\",\"cheer\",\"chew\",\"choke\",\"chop\",\"claim\",\"clap\",\"clean\",\"clear\",\"clip\",\"close\",\"coach\",\"coil\",\"collect\",\"colour\",\"comb\",\"command\",\"communicate\",\"compare\",\"compete\",\"complain\",\"complete\",\"concentrate\",\"concern\",\"confess\",\"confuse\",\"connect\",\"consider\",\"consist\",\"contain\",\"continue\",\"copy\",\"correct\",\"cough\",\"count\",\"cover\",\"crack\",\"crash\",\"crawl\",\"cross\",\"crush\",\"cry\",\"cure\",\"curl\",\"curve\",\"cycle\",\"dam\",\"damage\",\"dance\",\"dare\",\"decay\",\"deceive\",\"decide\",\"decorate\",\"delay\",\"delight\",\"deliver\",\"depend\",\"describe\",\"desert\",\"deserve\",\"destroy\",\"detect\",\"develop\",\"disagree\",\"disappear\",\"disapprove\",\"disarm\",\"discover\",\"dislike\",\"divide\",\"double\",\"doubt\",\"drag\",\"drain\",\"dream\",\"dress\",\"drip\",\"drop\",\"drown\",\"drum\",\"dry\",\"dust\",\"earn\",\"educate\",\"embarrass\",\"employ\",\"empty\",\"encourage\",\"end\",\"enjoy\",\"enter\",\"entertain\",\"escape\",\"examine\",\"excite\",\"excuse\",\"exercise\",\"exist\",\"expand\",\"expect\",\"explain\",\"explode\",\"extend\",\"face\",\"fade\",\"fail\",\"fancy\",\"fasten\",\"fax\",\"fear\",\"fence\",\"fetch\",\"file\",\"fill\",\"film\",\"fire\",\"fit\",\"fix\",\"flap\",\"flash\",\"float\",\"flood\",\"flow\",\"flower\",\"fold\",\"follow\",\"fool\",\"force\",\"form\",\"found\",\"frame\",\"frighten\",\"fry\",\"gather\",\"gaze\",\"glow\",\"glue\",\"grab\",\"grate\",\"grease\",\"greet\",\"grin\",\"grip\",\"groan\",\"guarantee\",\"guard\",\"guess\",\"guide\",\"hammer\",\"hand\",\"handle\",\"hang\",\"happen\",\"harass\",\"harm\",\"hate\",\"haunt\",\"head\",\"heal\",\"heap\",\"heat\",\"help\",\"hook\",\"hop\",\"hope\",\"hover\",\"hug\",\"hum\",\"hunt\",\"hurry\",\"identify\",\"ignore\",\"imagine\",\"impress\",\"improve\",\"include\",\"increase\",\"influence\",\"inform\",\"inject\",\"injure\",\"instruct\",\"intend\",\"interest\",\"interfere\",\"interrupt\",\"introduce\",\"invent\",\"invite\",\"irritate\",\"itch\",\"jail\",\"jam\",\"jog\",\"join\",\"joke\",\"judge\",\"juggle\",\"jump\",\"kick\",\"kill\",\"kiss\",\"kneel\",\"knit\",\"knock\",\"knot\",\"label\",\"land\",\"last\",\"laugh\",\"launch\",\"learn\",\"level\",\"license\",\"lick\",\"lie\",\"lighten\",\"like\",\"list\",\"listen\",\"live\",\"load\",\"lock\",\"long\",\"look\",\"love\",\"man\",\"manage\",\"march\",\"mark\",\"marry\",\"match\",\"mate\",\"matter\",\"measure\",\"meddle\",\"melt\",\"memorise\",\"mend\",\"mess up\",\"milk\",\"mine\",\"miss\",\"mix\",\"moan\",\"moor\",\"mourn\",\"move\",\"muddle\",\"mug\",\"multiply\",\"murder\",\"nail\",\"name\",\"need\",\"nest\",\"nod\",\"note\",\"notice\",\"number\",\"obey\",\"object\",\"observe\",\"obtain\",\"occur\",\"offend\",\"offer\",\"open\",\"order\",\"overflow\",\"owe\",\"own\",\"pack\",\"paddle\",\"paint\",\"park\",\"part\",\"pass\",\"paste\",\"pat\",\"pause\",\"peck\",\"pedal\",\"peel\",\"peep\",\"perform\",\"permit\",\"phone\",\"pick\",\"pinch\",\"pine\",\"place\",\"plan\",\"plant\",\"play\",\"please\",\"plug\",\"point\",\"poke\",\"polish\",\"pop\",\"possess\",\"post\",\"pour\",\"practise\",\"pray\",\"preach\",\"precede\",\"prefer\",\"prepare\",\"present\",\"preserve\",\"press\",\"pretend\",\"prevent\",\"prick\",\"print\",\"produce\",\"program\",\"promise\",\"protect\",\"provide\",\"pull\",\"pump\",\"punch\",\"puncture\",\"punish\",\"push\",\"question\",\"queue\",\"race\",\"radiate\",\"rain\",\"raise\",\"reach\",\"realise\",\"receive\",\"recognise\",\"record\",\"reduce\",\"reflect\",\"refuse\",\"regret\",\"reign\",\"reject\",\"rejoice\",\"relax\",\"release\",\"rely\",\"remain\",\"remember\",\"remind\",\"remove\",\"repair\",\"repeat\",\"replace\",\"reply\",\"report\",\"reproduce\",\"request\",\"rescue\",\"retire\",\"return\",\"rhyme\",\"rinse\",\"risk\",\"rob\",\"rock\",\"roll\",\"rot\",\"rub\",\"ruin\",\"rule\",\"rush\",\"sack\",\"sail\",\"satisfy\",\"save\",\"saw\",\"scare\",\"scatter\",\"scold\",\"scorch\",\"scrape\",\"scratch\",\"scream\",\"screw\",\"scribble\",\"scrub\",\"seal\",\"search\",\"separate\",\"serve\",\"settle\",\"shade\",\"share\",\"shave\",\"shelter\",\"shiver\",\"shock\",\"shop\",\"shrug\",\"sigh\",\"sign\",\"signal\",\"sin\",\"sip\",\"ski\",\"skip\",\"slap\",\"slip\",\"slow\",\"smash\",\"smell\",\"smile\",\"smoke\",\"snatch\",\"sneeze\",\"sniff\",\"snore\",\"snow\",\"soak\",\"soothe\",\"sound\",\"spare\",\"spark\",\"sparkle\",\"spell\",\"spill\",\"spoil\",\"spot\",\"spray\",\"sprout\",\"squash\",\"squeak\",\"squeal\",\"squeeze\",\"stain\",\"stamp\",\"stare\",\"start\",\"stay\",\"steer\",\"step\",\"stir\",\"stitch\",\"stop\",\"store\",\"strap\",\"strengthen\",\"stretch\",\"strip\",\"stroke\",\"stuff\",\"subtract\",\"succeed\",\"suck\",\"suffer\",\"suggest\",\"suit\",\"supply\",\"support\",\"suppose\",\"surprise\",\"surround\",\"suspect\",\"suspend\",\"switch\",\"talk\",\"tame\",\"tap\",\"taste\",\"tease\",\"telephone\",\"tempt\",\"terrify\",\"test\",\"thank\",\"thaw\",\"tick\",\"tickle\",\"tie\",\"time\",\"tip\",\"tire\",\"touch\",\"tour\",\"tow\",\"trace\",\"trade\",\"train\",\"transport\",\"trap\",\"travel\",\"treat\",\"tremble\",\"trick\",\"trip\",\"trot\",\"trouble\",\"trust\",\"try\",\"tug\",\"tumble\",\"turn\",\"twist\",\"type\",\"undress\",\"unfasten\",\"unite\",\"unlock\",\"unpack\",\"untidy\",\"use\",\"vanish\",\"visit\",\"wail\",\"wait\",\"walk\",\"wander\",\"want\",\"warm\",\"warn\",\"wash\",\"waste\",\"watch\",\"water\",\"wave\",\"weigh\",\"welcome\",\"whine\",\"whip\",\"whirl\",\"whisper\",\"whistle\",\"wink\",\"wipe\",\"wish\",\"wobble\",\"wonder\",\"work\",\"worry\",\"wrap\",\"wreck\",\"wrestle\",\"wriggle\",\"x-ray\",\"yawn\",\"yell\",\"zip\",\"zoom\"]\n",
        "\n",
        "\n",
        "import random\n",
        "import string\n",
        "\n",
        "\n",
        "def vaild_word(words):\n",
        "  word :str = random.choice(words)\n",
        "  while '-' in word or ' ' in word:\n",
        "    word :str = random.choice(words)\n",
        "  return word.upper()\n",
        "\n",
        "def hangman():\n",
        "  word = vaild_word(words)\n",
        "  word_letters = set(word)\n",
        "  alphabet = set(string.ascii_uppercase)\n",
        "  used_letters = set()\n",
        "\n",
        "  lives = 6\n",
        "\n",
        "  while len(word_letters) > 0 and lives > 0:\n",
        "    print(f'You have {lives} lives left. Used these letters: ', ' '.join(used_letters))\n",
        "    word_list = [letter if letter in used_letters else '-' for letter in word]\n",
        "    print('Current word: ', ' '.join(word_list))\n",
        "\n",
        "    user_letter = input('Guess a letter: ').upper()\n",
        "    if user_letter in alphabet - used_letters:\n",
        "      used_letters.add(user_letter)\n",
        "      if user_letter in word_letters:\n",
        "        word_letters.remove(user_letter)\n",
        "      else:\n",
        "        lives -= 1\n",
        "        print('Letter is not in word')\n",
        "    elif user_letter in used_letters:\n",
        "      print('You have already used that character. Please try again.')\n",
        "    else:\n",
        "      print('Invalid character. Please try again.')\n",
        "\n",
        "  if lives == 0:\n",
        "    print(f'You died, sorry. The word was {word}')\n",
        "  else:\n",
        "    print(f'You guessed right!! {word}')\n",
        "\n",
        "if __name__ == '__main__':\n",
        "  hangman()\n"
      ],
      "metadata": {
        "id": "1GANY15QaWIu",
        "colab": {
          "base_uri": "https://localhost:8080/"
        },
        "outputId": "329e4909-c7e6-450e-a797-263e47b1d154"
      },
      "execution_count": 1,
      "outputs": [
        {
          "output_type": "stream",
          "name": "stdout",
          "text": [
            "You have 6 lives left. Used these letters:  \n",
            "Current word:  - - - - - - - - - -\n",
            "Guess a letter: a\n",
            "Letter is not in word\n",
            "You have 5 lives left. Used these letters:  A\n",
            "Current word:  - - - - - - - - - -\n",
            "Guess a letter: u\n",
            "You have 5 lives left. Used these letters:  U A\n",
            "Current word:  - - - - U - - - - -\n",
            "Guess a letter: s\n",
            "You have 5 lives left. Used these letters:  U A S\n",
            "Current word:  - - S - U S S - - -\n",
            "Guess a letter: e\n",
            "Letter is not in word\n",
            "You have 4 lives left. Used these letters:  U E A S\n",
            "Current word:  - - S - U S S - - -\n",
            "Guess a letter: t\n",
            "Letter is not in word\n",
            "You have 3 lives left. Used these letters:  U S A E T\n",
            "Current word:  - - S - U S S - - -\n",
            "Guess a letter: o\n",
            "You have 3 lives left. Used these letters:  U S A O E T\n",
            "Current word:  - - S - U S S - O -\n",
            "Guess a letter: i\n",
            "You have 3 lives left. Used these letters:  U S A O I E T\n",
            "Current word:  - I S - U S S I O -\n",
            "Guess a letter: l\n",
            "Letter is not in word\n",
            "You have 2 lives left. Used these letters:  U S A O I L E T\n",
            "Current word:  - I S - U S S I O -\n",
            "Guess a letter: k\n",
            "Letter is not in word\n",
            "You have 1 lives left. Used these letters:  U S A O I K L E T\n",
            "Current word:  - I S - U S S I O -\n",
            "Guess a letter: w\n",
            "Letter is not in word\n",
            "You died, sorry. The word was DISCUSSION\n"
          ]
        }
      ]
    },
    {
      "cell_type": "markdown",
      "source": [
        "## **Project 6: Countdown Timer Python Project**\n",
        "### **Key Learning**\n",
        "---\n",
        "you will learn how to build a countdown timer using the time Python module. This is a great beginner project to get you used to working with while loops in Python."
      ],
      "metadata": {
        "id": "DYHucnx8Sg1v"
      }
    },
    {
      "cell_type": "code",
      "source": [
        "import time\n",
        "import sys\n",
        "\n",
        "def countdown_timer(total_seconds: int) -> None:\n",
        "    \"\"\"Runs a countdown timer for the given number of seconds.\"\"\"\n",
        "    while total_seconds:\n",
        "        minutes, seconds = divmod(total_seconds, 60)\n",
        "        formatted_time = f\"{minutes:02d}:{seconds:02d}\"\n",
        "        sys.stdout.write(f\"\\r{formatted_time} \")  # Overwrites the same line\n",
        "        sys.stdout.flush()\n",
        "        time.sleep(1)\n",
        "        total_seconds -= 1\n",
        "\n",
        "    print(\"\\nTimer completed!\")\n",
        "\n",
        "def main() -> None:\n",
        "    \"\"\"Main function to get user input and start the timer.\"\"\"\n",
        "    total_seconds = int(input(\"Enter the time in seconds: \"))\n",
        "    countdown_timer(total_seconds)\n",
        "\n",
        "if __name__ == \"__main__\":\n",
        "    main()\n"
      ],
      "metadata": {
        "id": "sXW3e6v_UF2f",
        "colab": {
          "base_uri": "https://localhost:8080/"
        },
        "outputId": "38cf105b-3d9d-48c3-b874-754f97911540"
      },
      "execution_count": 6,
      "outputs": [
        {
          "output_type": "stream",
          "name": "stdout",
          "text": [
            "Enter the time in seconds: 10\n",
            "00:01 \n",
            "Timer completed!\n"
          ]
        }
      ]
    }
  ]
}